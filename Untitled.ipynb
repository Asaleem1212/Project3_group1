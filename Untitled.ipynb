{
 "cells": [
  {
   "cell_type": "code",
   "execution_count": 56,
   "id": "a80876cf",
   "metadata": {},
   "outputs": [],
   "source": [
    "# import dependencies\n",
    "import pandas as pd\n",
    "import numpy as np\n",
    "pd.set_option('max_colwidth', 300)\n"
   ]
  },
  {
   "cell_type": "code",
   "execution_count": 57,
   "id": "6967da8d",
   "metadata": {},
   "outputs": [
    {
     "data": {
      "text/html": [
       "<div>\n",
       "<style scoped>\n",
       "    .dataframe tbody tr th:only-of-type {\n",
       "        vertical-align: middle;\n",
       "    }\n",
       "\n",
       "    .dataframe tbody tr th {\n",
       "        vertical-align: top;\n",
       "    }\n",
       "\n",
       "    .dataframe thead th {\n",
       "        text-align: right;\n",
       "    }\n",
       "</style>\n",
       "<table border=\"1\" class=\"dataframe\">\n",
       "  <thead>\n",
       "    <tr style=\"text-align: right;\">\n",
       "      <th></th>\n",
       "      <th>Week_Ending</th>\n",
       "      <th>Influenza_Season</th>\n",
       "      <th>Data_Collection_Period</th>\n",
       "      <th>Geography</th>\n",
       "      <th>Geographic_Level</th>\n",
       "      <th>Parent_Geography</th>\n",
       "      <th>Age_Group</th>\n",
       "      <th>Age_Group_Sort_Order</th>\n",
       "      <th>Race</th>\n",
       "      <th>Race_Ethnicity_Sort_Order</th>\n",
       "    </tr>\n",
       "  </thead>\n",
       "  <tbody>\n",
       "    <tr>\n",
       "      <th>0</th>\n",
       "      <td>01/29/2022 12:00:00 AM</td>\n",
       "      <td>2021-2022</td>\n",
       "      <td>01/02/2022 - 01/29/2022</td>\n",
       "      <td>Maine</td>\n",
       "      <td>State</td>\n",
       "      <td>National</td>\n",
       "      <td>18-49 yrs</td>\n",
       "      <td>1</td>\n",
       "      <td>Black, Non-Hispanic</td>\n",
       "      <td>1</td>\n",
       "    </tr>\n",
       "    <tr>\n",
       "      <th>1</th>\n",
       "      <td>01/29/2022 12:00:00 AM</td>\n",
       "      <td>2021-2022</td>\n",
       "      <td>01/02/2022 - 01/29/2022</td>\n",
       "      <td>Oklahoma</td>\n",
       "      <td>State</td>\n",
       "      <td>National</td>\n",
       "      <td>18-49 yrs</td>\n",
       "      <td>1</td>\n",
       "      <td>Black, Non-Hispanic</td>\n",
       "      <td>1</td>\n",
       "    </tr>\n",
       "    <tr>\n",
       "      <th>2</th>\n",
       "      <td>01/29/2022 12:00:00 AM</td>\n",
       "      <td>2021-2022</td>\n",
       "      <td>01/02/2022 - 01/29/2022</td>\n",
       "      <td>Oregon</td>\n",
       "      <td>State</td>\n",
       "      <td>National</td>\n",
       "      <td>18-49 yrs</td>\n",
       "      <td>1</td>\n",
       "      <td>Black, Non-Hispanic</td>\n",
       "      <td>1</td>\n",
       "    </tr>\n",
       "    <tr>\n",
       "      <th>3</th>\n",
       "      <td>01/29/2022 12:00:00 AM</td>\n",
       "      <td>2021-2022</td>\n",
       "      <td>01/02/2022 - 01/29/2022</td>\n",
       "      <td>Kansas</td>\n",
       "      <td>State</td>\n",
       "      <td>National</td>\n",
       "      <td>18-49 yrs</td>\n",
       "      <td>1</td>\n",
       "      <td>Black, Non-Hispanic</td>\n",
       "      <td>1</td>\n",
       "    </tr>\n",
       "    <tr>\n",
       "      <th>4</th>\n",
       "      <td>01/29/2022 12:00:00 AM</td>\n",
       "      <td>2021-2022</td>\n",
       "      <td>01/02/2022 - 01/29/2022</td>\n",
       "      <td>Hawaii</td>\n",
       "      <td>State</td>\n",
       "      <td>National</td>\n",
       "      <td>18-49 yrs</td>\n",
       "      <td>1</td>\n",
       "      <td>Black, Non-Hispanic</td>\n",
       "      <td>1</td>\n",
       "    </tr>\n",
       "    <tr>\n",
       "      <th>...</th>\n",
       "      <td>...</td>\n",
       "      <td>...</td>\n",
       "      <td>...</td>\n",
       "      <td>...</td>\n",
       "      <td>...</td>\n",
       "      <td>...</td>\n",
       "      <td>...</td>\n",
       "      <td>...</td>\n",
       "      <td>...</td>\n",
       "      <td>...</td>\n",
       "    </tr>\n",
       "    <tr>\n",
       "      <th>6355</th>\n",
       "      <td>12/31/2021 12:00:00 AM</td>\n",
       "      <td>2021-2022</td>\n",
       "      <td>11/28/2021 - 12/31/2021</td>\n",
       "      <td>Hawaii</td>\n",
       "      <td>State</td>\n",
       "      <td>National</td>\n",
       "      <td>All Adults (18+)</td>\n",
       "      <td>4</td>\n",
       "      <td>White, Non-Hispanic</td>\n",
       "      <td>5</td>\n",
       "    </tr>\n",
       "    <tr>\n",
       "      <th>6356</th>\n",
       "      <td>12/31/2021 12:00:00 AM</td>\n",
       "      <td>2021-2022</td>\n",
       "      <td>11/28/2021 - 12/31/2021</td>\n",
       "      <td>Connecticut</td>\n",
       "      <td>State</td>\n",
       "      <td>National</td>\n",
       "      <td>All Adults (18+)</td>\n",
       "      <td>4</td>\n",
       "      <td>White, Non-Hispanic</td>\n",
       "      <td>5</td>\n",
       "    </tr>\n",
       "    <tr>\n",
       "      <th>6357</th>\n",
       "      <td>12/31/2021 12:00:00 AM</td>\n",
       "      <td>2021-2022</td>\n",
       "      <td>11/28/2021 - 12/31/2021</td>\n",
       "      <td>Massachusetts</td>\n",
       "      <td>State</td>\n",
       "      <td>National</td>\n",
       "      <td>All Adults (18+)</td>\n",
       "      <td>4</td>\n",
       "      <td>White, Non-Hispanic</td>\n",
       "      <td>5</td>\n",
       "    </tr>\n",
       "    <tr>\n",
       "      <th>6358</th>\n",
       "      <td>12/31/2021 12:00:00 AM</td>\n",
       "      <td>2021-2022</td>\n",
       "      <td>11/28/2021 - 12/31/2021</td>\n",
       "      <td>Maryland</td>\n",
       "      <td>State</td>\n",
       "      <td>National</td>\n",
       "      <td>All Adults (18+)</td>\n",
       "      <td>4</td>\n",
       "      <td>White, Non-Hispanic</td>\n",
       "      <td>5</td>\n",
       "    </tr>\n",
       "    <tr>\n",
       "      <th>6359</th>\n",
       "      <td>12/31/2021 12:00:00 AM</td>\n",
       "      <td>2021-2022</td>\n",
       "      <td>11/28/2021 - 12/31/2021</td>\n",
       "      <td>District of Columbia</td>\n",
       "      <td>State</td>\n",
       "      <td>National</td>\n",
       "      <td>All Adults (18+)</td>\n",
       "      <td>4</td>\n",
       "      <td>White, Non-Hispanic</td>\n",
       "      <td>5</td>\n",
       "    </tr>\n",
       "  </tbody>\n",
       "</table>\n",
       "<p>6360 rows × 10 columns</p>\n",
       "</div>"
      ],
      "text/plain": [
       "                 Week_Ending Influenza_Season   Data_Collection_Period  \\\n",
       "0     01/29/2022 12:00:00 AM        2021-2022  01/02/2022 - 01/29/2022   \n",
       "1     01/29/2022 12:00:00 AM        2021-2022  01/02/2022 - 01/29/2022   \n",
       "2     01/29/2022 12:00:00 AM        2021-2022  01/02/2022 - 01/29/2022   \n",
       "3     01/29/2022 12:00:00 AM        2021-2022  01/02/2022 - 01/29/2022   \n",
       "4     01/29/2022 12:00:00 AM        2021-2022  01/02/2022 - 01/29/2022   \n",
       "...                      ...              ...                      ...   \n",
       "6355  12/31/2021 12:00:00 AM        2021-2022  11/28/2021 - 12/31/2021   \n",
       "6356  12/31/2021 12:00:00 AM        2021-2022  11/28/2021 - 12/31/2021   \n",
       "6357  12/31/2021 12:00:00 AM        2021-2022  11/28/2021 - 12/31/2021   \n",
       "6358  12/31/2021 12:00:00 AM        2021-2022  11/28/2021 - 12/31/2021   \n",
       "6359  12/31/2021 12:00:00 AM        2021-2022  11/28/2021 - 12/31/2021   \n",
       "\n",
       "                 Geography Geographic_Level Parent_Geography  \\\n",
       "0                    Maine            State         National   \n",
       "1                 Oklahoma            State         National   \n",
       "2                   Oregon            State         National   \n",
       "3                   Kansas            State         National   \n",
       "4                   Hawaii            State         National   \n",
       "...                    ...              ...              ...   \n",
       "6355                Hawaii            State         National   \n",
       "6356           Connecticut            State         National   \n",
       "6357         Massachusetts            State         National   \n",
       "6358              Maryland            State         National   \n",
       "6359  District of Columbia            State         National   \n",
       "\n",
       "             Age_Group  Age_Group_Sort_Order                 Race  \\\n",
       "0            18-49 yrs                     1  Black, Non-Hispanic   \n",
       "1            18-49 yrs                     1  Black, Non-Hispanic   \n",
       "2            18-49 yrs                     1  Black, Non-Hispanic   \n",
       "3            18-49 yrs                     1  Black, Non-Hispanic   \n",
       "4            18-49 yrs                     1  Black, Non-Hispanic   \n",
       "...                ...                   ...                  ...   \n",
       "6355  All Adults (18+)                     4  White, Non-Hispanic   \n",
       "6356  All Adults (18+)                     4  White, Non-Hispanic   \n",
       "6357  All Adults (18+)                     4  White, Non-Hispanic   \n",
       "6358  All Adults (18+)                     4  White, Non-Hispanic   \n",
       "6359  All Adults (18+)                     4  White, Non-Hispanic   \n",
       "\n",
       "      Race_Ethnicity_Sort_Order  \n",
       "0                             1  \n",
       "1                             1  \n",
       "2                             1  \n",
       "3                             1  \n",
       "4                             1  \n",
       "...                         ...  \n",
       "6355                          5  \n",
       "6356                          5  \n",
       "6357                          5  \n",
       "6358                          5  \n",
       "6359                          5  \n",
       "\n",
       "[6360 rows x 10 columns]"
      ]
     },
     "execution_count": 57,
     "metadata": {},
     "output_type": "execute_result"
    }
   ],
   "source": [
    "influencavaccine_info_df = pd.read_csv('resources\\cumulativevaccine_data.csv')\n",
    "influencavaccine_info_df"
   ]
  },
  {
   "cell_type": "code",
   "execution_count": 58,
   "id": "27145cd3",
   "metadata": {},
   "outputs": [
    {
     "name": "stdout",
     "output_type": "stream",
     "text": [
      "<class 'pandas.core.frame.DataFrame'>\n",
      "RangeIndex: 6360 entries, 0 to 6359\n",
      "Data columns (total 10 columns):\n",
      " #   Column                     Non-Null Count  Dtype \n",
      "---  ------                     --------------  ----- \n",
      " 0   Week_Ending                6360 non-null   object\n",
      " 1   Influenza_Season           6360 non-null   object\n",
      " 2   Data_Collection_Period     6360 non-null   object\n",
      " 3   Geography                  6360 non-null   object\n",
      " 4   Geographic_Level           6360 non-null   object\n",
      " 5   Parent_Geography           6360 non-null   object\n",
      " 6   Age_Group                  6360 non-null   object\n",
      " 7   Age_Group_Sort_Order       6360 non-null   int64 \n",
      " 8   Race                       6360 non-null   object\n",
      " 9   Race_Ethnicity_Sort_Order  6360 non-null   int64 \n",
      "dtypes: int64(2), object(8)\n",
      "memory usage: 497.0+ KB\n"
     ]
    }
   ],
   "source": [
    "influencavaccine_info_df.info()"
   ]
  },
  {
   "cell_type": "code",
   "execution_count": 59,
   "id": "16f47290",
   "metadata": {
    "scrolled": false
   },
   "outputs": [
    {
     "data": {
      "text/plain": [
       "Index(['Week_Ending', 'Influenza_Season', 'Data_Collection_Period',\n",
       "       'Geography', 'Geographic_Level', 'Parent_Geography', 'Age_Group',\n",
       "       'Age_Group_Sort_Order', 'Race', 'Race_Ethnicity_Sort_Order'],\n",
       "      dtype='object')"
      ]
     },
     "execution_count": 59,
     "metadata": {},
     "output_type": "execute_result"
    }
   ],
   "source": [
    "columns = influencavaccine_info_df.columns\n",
    "columns"
   ]
  },
  {
   "cell_type": "code",
   "execution_count": 60,
   "id": "ff6f6a7e",
   "metadata": {},
   "outputs": [
    {
     "name": "stdout",
     "output_type": "stream",
     "text": [
      "['18-49 yrs' '50-64 yrs' '65+ yrs' 'All Adults (18+)']\n",
      "['Black, Non-Hispanic' 'Hispanic' 'Other/Multiple Races, Non-Hispanic'\n",
      " 'Overall' 'White, Non-Hispanic']\n"
     ]
    }
   ],
   "source": [
    "Age_group = influencavaccine_info_df['Age_Group'].unique()\n",
    "Race = influencavaccine_info_df['Race'].unique()\n",
    "\n",
    "print(Age_group)\n",
    "print(Race)\n"
   ]
  },
  {
   "cell_type": "code",
   "execution_count": 61,
   "id": "50e409a2",
   "metadata": {},
   "outputs": [
    {
     "name": "stdout",
     "output_type": "stream",
     "text": [
      "4\n",
      "5\n"
     ]
    }
   ],
   "source": [
    "print(len(Age_group))\n",
    "print(len(Race))\n"
   ]
  },
  {
   "cell_type": "code",
   "execution_count": 62,
   "id": "1c09a51b",
   "metadata": {},
   "outputs": [
    {
     "name": "stdout",
     "output_type": "stream",
     "text": [
      "[1 2 3 4]\n",
      "[1 2 3 4 5]\n"
     ]
    }
   ],
   "source": [
    "Age_group_sort_order = np.arange(1, 5)\n",
    "Race_sort_order = np.arange(1, 6)\n",
    "print(Age_group_sort_order)\n",
    "print(Race_sort_order)"
   ]
  },
  {
   "cell_type": "code",
   "execution_count": 63,
   "id": "2733b71a",
   "metadata": {},
   "outputs": [],
   "source": [
    "Age_group_df = pd.DataFrame({'Age_Group_Sort_Order': Age_group_sort_order, 'Age_Group' : Age_group})\n",
    "Race_df = pd.DataFrame({'Race_Ethnicity_Sort_Order': Race_sort_order, 'Race': Race})"
   ]
  },
  {
   "cell_type": "code",
   "execution_count": 64,
   "id": "3448d4d6",
   "metadata": {},
   "outputs": [
    {
     "data": {
      "text/html": [
       "<div>\n",
       "<style scoped>\n",
       "    .dataframe tbody tr th:only-of-type {\n",
       "        vertical-align: middle;\n",
       "    }\n",
       "\n",
       "    .dataframe tbody tr th {\n",
       "        vertical-align: top;\n",
       "    }\n",
       "\n",
       "    .dataframe thead th {\n",
       "        text-align: right;\n",
       "    }\n",
       "</style>\n",
       "<table border=\"1\" class=\"dataframe\">\n",
       "  <thead>\n",
       "    <tr style=\"text-align: right;\">\n",
       "      <th></th>\n",
       "      <th>Age_Group_Sort_Order</th>\n",
       "      <th>Age_Group</th>\n",
       "    </tr>\n",
       "  </thead>\n",
       "  <tbody>\n",
       "    <tr>\n",
       "      <th>0</th>\n",
       "      <td>1</td>\n",
       "      <td>18-49 yrs</td>\n",
       "    </tr>\n",
       "    <tr>\n",
       "      <th>1</th>\n",
       "      <td>2</td>\n",
       "      <td>50-64 yrs</td>\n",
       "    </tr>\n",
       "    <tr>\n",
       "      <th>2</th>\n",
       "      <td>3</td>\n",
       "      <td>65+ yrs</td>\n",
       "    </tr>\n",
       "    <tr>\n",
       "      <th>3</th>\n",
       "      <td>4</td>\n",
       "      <td>All Adults (18+)</td>\n",
       "    </tr>\n",
       "  </tbody>\n",
       "</table>\n",
       "</div>"
      ],
      "text/plain": [
       "   Age_Group_Sort_Order         Age_Group\n",
       "0                     1         18-49 yrs\n",
       "1                     2         50-64 yrs\n",
       "2                     3           65+ yrs\n",
       "3                     4  All Adults (18+)"
      ]
     },
     "execution_count": 64,
     "metadata": {},
     "output_type": "execute_result"
    }
   ],
   "source": [
    "Age_group_df"
   ]
  },
  {
   "cell_type": "code",
   "execution_count": 65,
   "id": "d8afd467",
   "metadata": {},
   "outputs": [
    {
     "data": {
      "text/html": [
       "<div>\n",
       "<style scoped>\n",
       "    .dataframe tbody tr th:only-of-type {\n",
       "        vertical-align: middle;\n",
       "    }\n",
       "\n",
       "    .dataframe tbody tr th {\n",
       "        vertical-align: top;\n",
       "    }\n",
       "\n",
       "    .dataframe thead th {\n",
       "        text-align: right;\n",
       "    }\n",
       "</style>\n",
       "<table border=\"1\" class=\"dataframe\">\n",
       "  <thead>\n",
       "    <tr style=\"text-align: right;\">\n",
       "      <th></th>\n",
       "      <th>Race_Ethnicity_Sort_Order</th>\n",
       "      <th>Race</th>\n",
       "    </tr>\n",
       "  </thead>\n",
       "  <tbody>\n",
       "    <tr>\n",
       "      <th>0</th>\n",
       "      <td>1</td>\n",
       "      <td>Black, Non-Hispanic</td>\n",
       "    </tr>\n",
       "    <tr>\n",
       "      <th>1</th>\n",
       "      <td>2</td>\n",
       "      <td>Hispanic</td>\n",
       "    </tr>\n",
       "    <tr>\n",
       "      <th>2</th>\n",
       "      <td>3</td>\n",
       "      <td>Other/Multiple Races, Non-Hispanic</td>\n",
       "    </tr>\n",
       "    <tr>\n",
       "      <th>3</th>\n",
       "      <td>4</td>\n",
       "      <td>Overall</td>\n",
       "    </tr>\n",
       "    <tr>\n",
       "      <th>4</th>\n",
       "      <td>5</td>\n",
       "      <td>White, Non-Hispanic</td>\n",
       "    </tr>\n",
       "  </tbody>\n",
       "</table>\n",
       "</div>"
      ],
      "text/plain": [
       "   Race_Ethnicity_Sort_Order                                Race\n",
       "0                          1                 Black, Non-Hispanic\n",
       "1                          2                            Hispanic\n",
       "2                          3  Other/Multiple Races, Non-Hispanic\n",
       "3                          4                             Overall\n",
       "4                          5                 White, Non-Hispanic"
      ]
     },
     "execution_count": 65,
     "metadata": {},
     "output_type": "execute_result"
    }
   ],
   "source": [
    "Race_df"
   ]
  },
  {
   "cell_type": "code",
   "execution_count": 66,
   "id": "2787fb66",
   "metadata": {},
   "outputs": [],
   "source": [
    "Age_group_df.to_csv(\"resources/Age_group.csv\", index=False)\n",
    "\n",
    "Race_df.to_csv(\"resources/Race.csv\", index=False)"
   ]
  },
  {
   "cell_type": "code",
   "execution_count": 67,
   "id": "07c59c71",
   "metadata": {},
   "outputs": [
    {
     "data": {
      "text/html": [
       "<div>\n",
       "<style scoped>\n",
       "    .dataframe tbody tr th:only-of-type {\n",
       "        vertical-align: middle;\n",
       "    }\n",
       "\n",
       "    .dataframe tbody tr th {\n",
       "        vertical-align: top;\n",
       "    }\n",
       "\n",
       "    .dataframe thead th {\n",
       "        text-align: right;\n",
       "    }\n",
       "</style>\n",
       "<table border=\"1\" class=\"dataframe\">\n",
       "  <thead>\n",
       "    <tr style=\"text-align: right;\">\n",
       "      <th></th>\n",
       "      <th>Week_Ending</th>\n",
       "      <th>Influenza_Season</th>\n",
       "      <th>Data_Collection_Period</th>\n",
       "      <th>Geography</th>\n",
       "      <th>Geographic_Level</th>\n",
       "      <th>Parent_Geography</th>\n",
       "      <th>Age_Group</th>\n",
       "      <th>Age_Group_Sort_Order</th>\n",
       "      <th>Race</th>\n",
       "      <th>Race_Ethnicity_Sort_Order</th>\n",
       "    </tr>\n",
       "  </thead>\n",
       "  <tbody>\n",
       "    <tr>\n",
       "      <th>0</th>\n",
       "      <td>01/29/2022 12:00:00 AM</td>\n",
       "      <td>2021-2022</td>\n",
       "      <td>01/02/2022 - 01/29/2022</td>\n",
       "      <td>Maine</td>\n",
       "      <td>State</td>\n",
       "      <td>National</td>\n",
       "      <td>18-49 yrs</td>\n",
       "      <td>1</td>\n",
       "      <td>Black, Non-Hispanic</td>\n",
       "      <td>1</td>\n",
       "    </tr>\n",
       "    <tr>\n",
       "      <th>1</th>\n",
       "      <td>01/29/2022 12:00:00 AM</td>\n",
       "      <td>2021-2022</td>\n",
       "      <td>01/02/2022 - 01/29/2022</td>\n",
       "      <td>Oklahoma</td>\n",
       "      <td>State</td>\n",
       "      <td>National</td>\n",
       "      <td>18-49 yrs</td>\n",
       "      <td>1</td>\n",
       "      <td>Black, Non-Hispanic</td>\n",
       "      <td>1</td>\n",
       "    </tr>\n",
       "    <tr>\n",
       "      <th>2</th>\n",
       "      <td>01/29/2022 12:00:00 AM</td>\n",
       "      <td>2021-2022</td>\n",
       "      <td>01/02/2022 - 01/29/2022</td>\n",
       "      <td>Oregon</td>\n",
       "      <td>State</td>\n",
       "      <td>National</td>\n",
       "      <td>18-49 yrs</td>\n",
       "      <td>1</td>\n",
       "      <td>Black, Non-Hispanic</td>\n",
       "      <td>1</td>\n",
       "    </tr>\n",
       "    <tr>\n",
       "      <th>3</th>\n",
       "      <td>01/29/2022 12:00:00 AM</td>\n",
       "      <td>2021-2022</td>\n",
       "      <td>01/02/2022 - 01/29/2022</td>\n",
       "      <td>Kansas</td>\n",
       "      <td>State</td>\n",
       "      <td>National</td>\n",
       "      <td>18-49 yrs</td>\n",
       "      <td>1</td>\n",
       "      <td>Black, Non-Hispanic</td>\n",
       "      <td>1</td>\n",
       "    </tr>\n",
       "    <tr>\n",
       "      <th>4</th>\n",
       "      <td>01/29/2022 12:00:00 AM</td>\n",
       "      <td>2021-2022</td>\n",
       "      <td>01/02/2022 - 01/29/2022</td>\n",
       "      <td>Hawaii</td>\n",
       "      <td>State</td>\n",
       "      <td>National</td>\n",
       "      <td>18-49 yrs</td>\n",
       "      <td>1</td>\n",
       "      <td>Black, Non-Hispanic</td>\n",
       "      <td>1</td>\n",
       "    </tr>\n",
       "    <tr>\n",
       "      <th>...</th>\n",
       "      <td>...</td>\n",
       "      <td>...</td>\n",
       "      <td>...</td>\n",
       "      <td>...</td>\n",
       "      <td>...</td>\n",
       "      <td>...</td>\n",
       "      <td>...</td>\n",
       "      <td>...</td>\n",
       "      <td>...</td>\n",
       "      <td>...</td>\n",
       "    </tr>\n",
       "    <tr>\n",
       "      <th>6355</th>\n",
       "      <td>12/31/2021 12:00:00 AM</td>\n",
       "      <td>2021-2022</td>\n",
       "      <td>11/28/2021 - 12/31/2021</td>\n",
       "      <td>Hawaii</td>\n",
       "      <td>State</td>\n",
       "      <td>National</td>\n",
       "      <td>All Adults (18+)</td>\n",
       "      <td>4</td>\n",
       "      <td>White, Non-Hispanic</td>\n",
       "      <td>5</td>\n",
       "    </tr>\n",
       "    <tr>\n",
       "      <th>6356</th>\n",
       "      <td>12/31/2021 12:00:00 AM</td>\n",
       "      <td>2021-2022</td>\n",
       "      <td>11/28/2021 - 12/31/2021</td>\n",
       "      <td>Connecticut</td>\n",
       "      <td>State</td>\n",
       "      <td>National</td>\n",
       "      <td>All Adults (18+)</td>\n",
       "      <td>4</td>\n",
       "      <td>White, Non-Hispanic</td>\n",
       "      <td>5</td>\n",
       "    </tr>\n",
       "    <tr>\n",
       "      <th>6357</th>\n",
       "      <td>12/31/2021 12:00:00 AM</td>\n",
       "      <td>2021-2022</td>\n",
       "      <td>11/28/2021 - 12/31/2021</td>\n",
       "      <td>Massachusetts</td>\n",
       "      <td>State</td>\n",
       "      <td>National</td>\n",
       "      <td>All Adults (18+)</td>\n",
       "      <td>4</td>\n",
       "      <td>White, Non-Hispanic</td>\n",
       "      <td>5</td>\n",
       "    </tr>\n",
       "    <tr>\n",
       "      <th>6358</th>\n",
       "      <td>12/31/2021 12:00:00 AM</td>\n",
       "      <td>2021-2022</td>\n",
       "      <td>11/28/2021 - 12/31/2021</td>\n",
       "      <td>Maryland</td>\n",
       "      <td>State</td>\n",
       "      <td>National</td>\n",
       "      <td>All Adults (18+)</td>\n",
       "      <td>4</td>\n",
       "      <td>White, Non-Hispanic</td>\n",
       "      <td>5</td>\n",
       "    </tr>\n",
       "    <tr>\n",
       "      <th>6359</th>\n",
       "      <td>12/31/2021 12:00:00 AM</td>\n",
       "      <td>2021-2022</td>\n",
       "      <td>11/28/2021 - 12/31/2021</td>\n",
       "      <td>District of Columbia</td>\n",
       "      <td>State</td>\n",
       "      <td>National</td>\n",
       "      <td>All Adults (18+)</td>\n",
       "      <td>4</td>\n",
       "      <td>White, Non-Hispanic</td>\n",
       "      <td>5</td>\n",
       "    </tr>\n",
       "  </tbody>\n",
       "</table>\n",
       "<p>6360 rows × 10 columns</p>\n",
       "</div>"
      ],
      "text/plain": [
       "                 Week_Ending Influenza_Season   Data_Collection_Period  \\\n",
       "0     01/29/2022 12:00:00 AM        2021-2022  01/02/2022 - 01/29/2022   \n",
       "1     01/29/2022 12:00:00 AM        2021-2022  01/02/2022 - 01/29/2022   \n",
       "2     01/29/2022 12:00:00 AM        2021-2022  01/02/2022 - 01/29/2022   \n",
       "3     01/29/2022 12:00:00 AM        2021-2022  01/02/2022 - 01/29/2022   \n",
       "4     01/29/2022 12:00:00 AM        2021-2022  01/02/2022 - 01/29/2022   \n",
       "...                      ...              ...                      ...   \n",
       "6355  12/31/2021 12:00:00 AM        2021-2022  11/28/2021 - 12/31/2021   \n",
       "6356  12/31/2021 12:00:00 AM        2021-2022  11/28/2021 - 12/31/2021   \n",
       "6357  12/31/2021 12:00:00 AM        2021-2022  11/28/2021 - 12/31/2021   \n",
       "6358  12/31/2021 12:00:00 AM        2021-2022  11/28/2021 - 12/31/2021   \n",
       "6359  12/31/2021 12:00:00 AM        2021-2022  11/28/2021 - 12/31/2021   \n",
       "\n",
       "                 Geography Geographic_Level Parent_Geography  \\\n",
       "0                    Maine            State         National   \n",
       "1                 Oklahoma            State         National   \n",
       "2                   Oregon            State         National   \n",
       "3                   Kansas            State         National   \n",
       "4                   Hawaii            State         National   \n",
       "...                    ...              ...              ...   \n",
       "6355                Hawaii            State         National   \n",
       "6356           Connecticut            State         National   \n",
       "6357         Massachusetts            State         National   \n",
       "6358              Maryland            State         National   \n",
       "6359  District of Columbia            State         National   \n",
       "\n",
       "             Age_Group  Age_Group_Sort_Order                 Race  \\\n",
       "0            18-49 yrs                     1  Black, Non-Hispanic   \n",
       "1            18-49 yrs                     1  Black, Non-Hispanic   \n",
       "2            18-49 yrs                     1  Black, Non-Hispanic   \n",
       "3            18-49 yrs                     1  Black, Non-Hispanic   \n",
       "4            18-49 yrs                     1  Black, Non-Hispanic   \n",
       "...                ...                   ...                  ...   \n",
       "6355  All Adults (18+)                     4  White, Non-Hispanic   \n",
       "6356  All Adults (18+)                     4  White, Non-Hispanic   \n",
       "6357  All Adults (18+)                     4  White, Non-Hispanic   \n",
       "6358  All Adults (18+)                     4  White, Non-Hispanic   \n",
       "6359  All Adults (18+)                     4  White, Non-Hispanic   \n",
       "\n",
       "      Race_Ethnicity_Sort_Order  \n",
       "0                             1  \n",
       "1                             1  \n",
       "2                             1  \n",
       "3                             1  \n",
       "4                             1  \n",
       "...                         ...  \n",
       "6355                          5  \n",
       "6356                          5  \n",
       "6357                          5  \n",
       "6358                          5  \n",
       "6359                          5  \n",
       "\n",
       "[6360 rows x 10 columns]"
      ]
     },
     "execution_count": 67,
     "metadata": {},
     "output_type": "execute_result"
    }
   ],
   "source": [
    "influencavaccine_info_df.to_csv(\"resources/cumulativevaccine_data.csv\", index=False)\n",
    "influencavaccine_info_df"
   ]
  },
  {
   "cell_type": "markdown",
   "id": "ba965557",
   "metadata": {},
   "source": [
    "#### Geographic Areas with Most Deaths and Hospitalized Cases"
   ]
  },
  {
   "cell_type": "code",
   "execution_count": 68,
   "id": "689e9b57",
   "metadata": {},
   "outputs": [
    {
     "data": {
      "text/html": [
       "<div>\n",
       "<style scoped>\n",
       "    .dataframe tbody tr th:only-of-type {\n",
       "        vertical-align: middle;\n",
       "    }\n",
       "\n",
       "    .dataframe tbody tr th {\n",
       "        vertical-align: top;\n",
       "    }\n",
       "\n",
       "    .dataframe thead th {\n",
       "        text-align: right;\n",
       "    }\n",
       "</style>\n",
       "<table border=\"1\" class=\"dataframe\">\n",
       "  <thead>\n",
       "    <tr style=\"text-align: right;\">\n",
       "      <th></th>\n",
       "      <th>State/Territory</th>\n",
       "      <th>Total Cases</th>\n",
       "      <th>Confirmed Cases</th>\n",
       "      <th>Probable Cases</th>\n",
       "      <th>Cases in Last 7 Days</th>\n",
       "      <th>Case Rate per 100000</th>\n",
       "      <th>Total Deaths</th>\n",
       "      <th>Confirmed Deaths</th>\n",
       "      <th>Probable Deaths</th>\n",
       "      <th>Deaths in Last 7 Days</th>\n",
       "      <th>Death Rate per 100000</th>\n",
       "      <th>State Region</th>\n",
       "    </tr>\n",
       "  </thead>\n",
       "  <tbody>\n",
       "    <tr>\n",
       "      <th>0</th>\n",
       "      <td>Alaska</td>\n",
       "      <td>44966</td>\n",
       "      <td>NaN</td>\n",
       "      <td>NaN</td>\n",
       "      <td>1605</td>\n",
       "      <td>6147</td>\n",
       "      <td>202</td>\n",
       "      <td>NaN</td>\n",
       "      <td>NaN</td>\n",
       "      <td>6</td>\n",
       "      <td>27</td>\n",
       "      <td>West</td>\n",
       "    </tr>\n",
       "    <tr>\n",
       "      <th>1</th>\n",
       "      <td>Alabama</td>\n",
       "      <td>356820</td>\n",
       "      <td>287173.0</td>\n",
       "      <td>69647.0</td>\n",
       "      <td>22251</td>\n",
       "      <td>7277</td>\n",
       "      <td>4774</td>\n",
       "      <td>4174.0</td>\n",
       "      <td>600.0</td>\n",
       "      <td>187</td>\n",
       "      <td>97</td>\n",
       "      <td>South</td>\n",
       "    </tr>\n",
       "    <tr>\n",
       "      <th>2</th>\n",
       "      <td>Arkansas</td>\n",
       "      <td>222430</td>\n",
       "      <td>NaN</td>\n",
       "      <td>NaN</td>\n",
       "      <td>14489</td>\n",
       "      <td>7371</td>\n",
       "      <td>3637</td>\n",
       "      <td>NaN</td>\n",
       "      <td>NaN</td>\n",
       "      <td>261</td>\n",
       "      <td>120</td>\n",
       "      <td>South</td>\n",
       "    </tr>\n",
       "    <tr>\n",
       "      <th>3</th>\n",
       "      <td>Arizona</td>\n",
       "      <td>512489</td>\n",
       "      <td>488303.0</td>\n",
       "      <td>24186.0</td>\n",
       "      <td>39216</td>\n",
       "      <td>7041</td>\n",
       "      <td>8718</td>\n",
       "      <td>7892.0</td>\n",
       "      <td>826.0</td>\n",
       "      <td>539</td>\n",
       "      <td>119</td>\n",
       "      <td>West</td>\n",
       "    </tr>\n",
       "    <tr>\n",
       "      <th>4</th>\n",
       "      <td>California</td>\n",
       "      <td>2218142</td>\n",
       "      <td>NaN</td>\n",
       "      <td>NaN</td>\n",
       "      <td>254066</td>\n",
       "      <td>5614</td>\n",
       "      <td>24958</td>\n",
       "      <td>NaN</td>\n",
       "      <td>NaN</td>\n",
       "      <td>1674</td>\n",
       "      <td>63</td>\n",
       "      <td>West</td>\n",
       "    </tr>\n",
       "  </tbody>\n",
       "</table>\n",
       "</div>"
      ],
      "text/plain": [
       "  State/Territory  Total Cases  Confirmed Cases  Probable Cases  \\\n",
       "0          Alaska        44966              NaN             NaN   \n",
       "1         Alabama       356820         287173.0         69647.0   \n",
       "2        Arkansas       222430              NaN             NaN   \n",
       "3         Arizona       512489         488303.0         24186.0   \n",
       "4      California      2218142              NaN             NaN   \n",
       "\n",
       "   Cases in Last 7 Days  Case Rate per 100000  Total Deaths  Confirmed Deaths  \\\n",
       "0                  1605                  6147           202               NaN   \n",
       "1                 22251                  7277          4774            4174.0   \n",
       "2                 14489                  7371          3637               NaN   \n",
       "3                 39216                  7041          8718            7892.0   \n",
       "4                254066                  5614         24958               NaN   \n",
       "\n",
       "   Probable Deaths  Deaths in Last 7 Days  Death Rate per 100000 State Region  \n",
       "0              NaN                      6                     27         West  \n",
       "1            600.0                    187                     97        South  \n",
       "2              NaN                    261                    120        South  \n",
       "3            826.0                    539                    119         West  \n",
       "4              NaN                   1674                     63         West  "
      ]
     },
     "execution_count": 68,
     "metadata": {},
     "output_type": "execute_result"
    }
   ],
   "source": [
    "# Load the covid data\n",
    "\n",
    "covid_cases_df = pd.read_csv(\"resources/1-1-21 US covid19.csv\")\n",
    "covid_cases_df.head()"
   ]
  },
  {
   "cell_type": "code",
   "execution_count": 69,
   "id": "eddd7e67",
   "metadata": {},
   "outputs": [
    {
     "data": {
      "text/html": [
       "<div>\n",
       "<style scoped>\n",
       "    .dataframe tbody tr th:only-of-type {\n",
       "        vertical-align: middle;\n",
       "    }\n",
       "\n",
       "    .dataframe tbody tr th {\n",
       "        vertical-align: top;\n",
       "    }\n",
       "\n",
       "    .dataframe thead th {\n",
       "        text-align: right;\n",
       "    }\n",
       "</style>\n",
       "<table border=\"1\" class=\"dataframe\">\n",
       "  <thead>\n",
       "    <tr style=\"text-align: right;\">\n",
       "      <th></th>\n",
       "      <th>State</th>\n",
       "      <th>Total Deaths</th>\n",
       "    </tr>\n",
       "  </thead>\n",
       "  <tbody>\n",
       "    <tr>\n",
       "      <th>0</th>\n",
       "      <td>Texas</td>\n",
       "      <td>27088</td>\n",
       "    </tr>\n",
       "    <tr>\n",
       "      <th>1</th>\n",
       "      <td>California</td>\n",
       "      <td>24958</td>\n",
       "    </tr>\n",
       "    <tr>\n",
       "      <th>2</th>\n",
       "      <td>Florida</td>\n",
       "      <td>21546</td>\n",
       "    </tr>\n",
       "    <tr>\n",
       "      <th>3</th>\n",
       "      <td>New Jersey</td>\n",
       "      <td>18952</td>\n",
       "    </tr>\n",
       "    <tr>\n",
       "      <th>4</th>\n",
       "      <td>Illinois</td>\n",
       "      <td>17811</td>\n",
       "    </tr>\n",
       "    <tr>\n",
       "      <th>5</th>\n",
       "      <td>Pennsylvania</td>\n",
       "      <td>15672</td>\n",
       "    </tr>\n",
       "    <tr>\n",
       "      <th>6</th>\n",
       "      <td>Michigan</td>\n",
       "      <td>13018</td>\n",
       "    </tr>\n",
       "    <tr>\n",
       "      <th>7</th>\n",
       "      <td>New York</td>\n",
       "      <td>12466</td>\n",
       "    </tr>\n",
       "    <tr>\n",
       "      <th>8</th>\n",
       "      <td>Massachusetts</td>\n",
       "      <td>12284</td>\n",
       "    </tr>\n",
       "    <tr>\n",
       "      <th>9</th>\n",
       "      <td>Georgia</td>\n",
       "      <td>10846</td>\n",
       "    </tr>\n",
       "  </tbody>\n",
       "</table>\n",
       "</div>"
      ],
      "text/plain": [
       "           State  Total Deaths\n",
       "0          Texas         27088\n",
       "1     California         24958\n",
       "2        Florida         21546\n",
       "3     New Jersey         18952\n",
       "4       Illinois         17811\n",
       "5   Pennsylvania         15672\n",
       "6       Michigan         13018\n",
       "7       New York         12466\n",
       "8  Massachusetts         12284\n",
       "9        Georgia         10846"
      ]
     },
     "execution_count": 69,
     "metadata": {},
     "output_type": "execute_result"
    }
   ],
   "source": [
    "covid_cases_df.rename(columns={\"State/Territory\": \"State\"}, inplace=True)\n",
    "\n",
    "# Summarize total deaths by state\n",
    "\n",
    "total_deaths_by_state = covid_cases_df.groupby('State')['Total Deaths'].sum().sort_values(ascending=False)\n",
    "\n",
    "# Convert to DataFrame for visualization\n",
    "total_deaths_by_state_df = total_deaths_by_state.reset_index()\n",
    "\n",
    "# Display the top 10 states with the most deaths\n",
    "total_deaths_by_state_df.head(10)"
   ]
  },
  {
   "cell_type": "code",
   "execution_count": 70,
   "id": "50e5824a",
   "metadata": {},
   "outputs": [
    {
     "name": "stderr",
     "output_type": "stream",
     "text": [
      "c:\\Users\\Pius\\anaconda3\\Lib\\site-packages\\seaborn\\_oldcore.py:1498: FutureWarning: is_categorical_dtype is deprecated and will be removed in a future version. Use isinstance(dtype, CategoricalDtype) instead\n",
      "  if pd.api.types.is_categorical_dtype(vector):\n",
      "c:\\Users\\Pius\\anaconda3\\Lib\\site-packages\\seaborn\\_oldcore.py:1498: FutureWarning: is_categorical_dtype is deprecated and will be removed in a future version. Use isinstance(dtype, CategoricalDtype) instead\n",
      "  if pd.api.types.is_categorical_dtype(vector):\n",
      "c:\\Users\\Pius\\anaconda3\\Lib\\site-packages\\seaborn\\_oldcore.py:1498: FutureWarning: is_categorical_dtype is deprecated and will be removed in a future version. Use isinstance(dtype, CategoricalDtype) instead\n",
      "  if pd.api.types.is_categorical_dtype(vector):\n"
     ]
    },
    {
     "data": {
      "image/png": "[encoded data removed]",
      "text/plain": [
       "<Figure size 1000x800 with 1 Axes>"
      ]
     },
     "metadata": {},
     "output_type": "display_data"
    }
   ],
   "source": [
    "# Visualize the data\n",
    "import matplotlib.pyplot as plt\n",
    "import seaborn as sns\n",
    "\n",
    "plt.figure(figsize=(10, 8))\n",
    "sns.barplot(x=total_deaths_by_state.values, y=total_deaths_by_state.index, palette='viridis')\n",
    "\n",
    "plt.title('Total COVID-19 Deaths by State')\n",
    "plt.xlabel('Total Deaths')\n",
    "plt.ylabel('State/Territory')\n",
    "\n",
    "plt.tight_layout()\n",
    "plt.show()"
   ]
  },
  {
   "cell_type": "markdown",
   "id": "bc936c91",
   "metadata": {},
   "source": [
    "#### Relationship Between COVID-19 Outcome and COVID-19 Vaccination Status"
   ]
  },
  {
   "cell_type": "code",
   "execution_count": 71,
   "id": "fe3f6035",
   "metadata": {},
   "outputs": [
    {
     "data": {
      "text/html": [
       "<div>\n",
       "<style scoped>\n",
       "    .dataframe tbody tr th:only-of-type {\n",
       "        vertical-align: middle;\n",
       "    }\n",
       "\n",
       "    .dataframe tbody tr th {\n",
       "        vertical-align: top;\n",
       "    }\n",
       "\n",
       "    .dataframe thead th {\n",
       "        text-align: right;\n",
       "    }\n",
       "</style>\n",
       "<table border=\"1\" class=\"dataframe\">\n",
       "  <thead>\n",
       "    <tr style=\"text-align: right;\">\n",
       "      <th></th>\n",
       "      <th>date</th>\n",
       "      <th>location</th>\n",
       "      <th>total_vaccinations</th>\n",
       "      <th>total_distributed</th>\n",
       "      <th>people_vaccinated</th>\n",
       "      <th>people_fully_vaccinated_per_hundred</th>\n",
       "      <th>total_vaccinations_per_hundred</th>\n",
       "      <th>people_fully_vaccinated</th>\n",
       "      <th>people_vaccinated_per_hundred</th>\n",
       "      <th>distributed_per_hundred</th>\n",
       "      <th>daily_vaccinations_raw</th>\n",
       "      <th>daily_vaccinations</th>\n",
       "      <th>daily_vaccinations_per_million</th>\n",
       "      <th>share_doses_used</th>\n",
       "      <th>total_boosters</th>\n",
       "      <th>total_boosters_per_hundred</th>\n",
       "    </tr>\n",
       "  </thead>\n",
       "  <tbody>\n",
       "    <tr>\n",
       "      <th>0</th>\n",
       "      <td>1/12/2021</td>\n",
       "      <td>Alabama</td>\n",
       "      <td>78134.0</td>\n",
       "      <td>377025.0</td>\n",
       "      <td>70861.0</td>\n",
       "      <td>0.15</td>\n",
       "      <td>1.59</td>\n",
       "      <td>7270.0</td>\n",
       "      <td>1.45</td>\n",
       "      <td>7.69</td>\n",
       "      <td>NaN</td>\n",
       "      <td>NaN</td>\n",
       "      <td>NaN</td>\n",
       "      <td>0.207</td>\n",
       "      <td>NaN</td>\n",
       "      <td>NaN</td>\n",
       "    </tr>\n",
       "    <tr>\n",
       "      <th>1</th>\n",
       "      <td>1/13/2021</td>\n",
       "      <td>Alabama</td>\n",
       "      <td>84040.0</td>\n",
       "      <td>378975.0</td>\n",
       "      <td>74792.0</td>\n",
       "      <td>0.19</td>\n",
       "      <td>1.71</td>\n",
       "      <td>9245.0</td>\n",
       "      <td>1.53</td>\n",
       "      <td>7.73</td>\n",
       "      <td>5906.0</td>\n",
       "      <td>5906.0</td>\n",
       "      <td>1205.0</td>\n",
       "      <td>0.222</td>\n",
       "      <td>NaN</td>\n",
       "      <td>NaN</td>\n",
       "    </tr>\n",
       "    <tr>\n",
       "      <th>2</th>\n",
       "      <td>1/14/2021</td>\n",
       "      <td>Alabama</td>\n",
       "      <td>92300.0</td>\n",
       "      <td>435350.0</td>\n",
       "      <td>80480.0</td>\n",
       "      <td>NaN</td>\n",
       "      <td>1.88</td>\n",
       "      <td>NaN</td>\n",
       "      <td>1.64</td>\n",
       "      <td>8.88</td>\n",
       "      <td>8260.0</td>\n",
       "      <td>7083.0</td>\n",
       "      <td>1445.0</td>\n",
       "      <td>0.212</td>\n",
       "      <td>NaN</td>\n",
       "      <td>NaN</td>\n",
       "    </tr>\n",
       "    <tr>\n",
       "      <th>3</th>\n",
       "      <td>1/15/2021</td>\n",
       "      <td>Alabama</td>\n",
       "      <td>100567.0</td>\n",
       "      <td>444650.0</td>\n",
       "      <td>86956.0</td>\n",
       "      <td>0.28</td>\n",
       "      <td>2.05</td>\n",
       "      <td>13488.0</td>\n",
       "      <td>1.77</td>\n",
       "      <td>9.07</td>\n",
       "      <td>8267.0</td>\n",
       "      <td>7478.0</td>\n",
       "      <td>1525.0</td>\n",
       "      <td>0.226</td>\n",
       "      <td>NaN</td>\n",
       "      <td>NaN</td>\n",
       "    </tr>\n",
       "    <tr>\n",
       "      <th>4</th>\n",
       "      <td>1/16/2021</td>\n",
       "      <td>Alabama</td>\n",
       "      <td>NaN</td>\n",
       "      <td>NaN</td>\n",
       "      <td>NaN</td>\n",
       "      <td>NaN</td>\n",
       "      <td>NaN</td>\n",
       "      <td>NaN</td>\n",
       "      <td>NaN</td>\n",
       "      <td>NaN</td>\n",
       "      <td>NaN</td>\n",
       "      <td>7498.0</td>\n",
       "      <td>1529.0</td>\n",
       "      <td>NaN</td>\n",
       "      <td>NaN</td>\n",
       "      <td>NaN</td>\n",
       "    </tr>\n",
       "    <tr>\n",
       "      <th>...</th>\n",
       "      <td>...</td>\n",
       "      <td>...</td>\n",
       "      <td>...</td>\n",
       "      <td>...</td>\n",
       "      <td>...</td>\n",
       "      <td>...</td>\n",
       "      <td>...</td>\n",
       "      <td>...</td>\n",
       "      <td>...</td>\n",
       "      <td>...</td>\n",
       "      <td>...</td>\n",
       "      <td>...</td>\n",
       "      <td>...</td>\n",
       "      <td>...</td>\n",
       "      <td>...</td>\n",
       "      <td>...</td>\n",
       "    </tr>\n",
       "    <tr>\n",
       "      <th>54623</th>\n",
       "      <td>5/6/2023</td>\n",
       "      <td>Wyoming</td>\n",
       "      <td>NaN</td>\n",
       "      <td>NaN</td>\n",
       "      <td>NaN</td>\n",
       "      <td>NaN</td>\n",
       "      <td>NaN</td>\n",
       "      <td>NaN</td>\n",
       "      <td>NaN</td>\n",
       "      <td>NaN</td>\n",
       "      <td>NaN</td>\n",
       "      <td>77.0</td>\n",
       "      <td>133.0</td>\n",
       "      <td>NaN</td>\n",
       "      <td>NaN</td>\n",
       "      <td>NaN</td>\n",
       "    </tr>\n",
       "    <tr>\n",
       "      <th>54624</th>\n",
       "      <td>5/7/2023</td>\n",
       "      <td>Wyoming</td>\n",
       "      <td>NaN</td>\n",
       "      <td>NaN</td>\n",
       "      <td>NaN</td>\n",
       "      <td>NaN</td>\n",
       "      <td>NaN</td>\n",
       "      <td>NaN</td>\n",
       "      <td>NaN</td>\n",
       "      <td>NaN</td>\n",
       "      <td>NaN</td>\n",
       "      <td>100.0</td>\n",
       "      <td>173.0</td>\n",
       "      <td>NaN</td>\n",
       "      <td>NaN</td>\n",
       "      <td>NaN</td>\n",
       "    </tr>\n",
       "    <tr>\n",
       "      <th>54625</th>\n",
       "      <td>5/8/2023</td>\n",
       "      <td>Wyoming</td>\n",
       "      <td>NaN</td>\n",
       "      <td>NaN</td>\n",
       "      <td>NaN</td>\n",
       "      <td>NaN</td>\n",
       "      <td>NaN</td>\n",
       "      <td>NaN</td>\n",
       "      <td>NaN</td>\n",
       "      <td>NaN</td>\n",
       "      <td>NaN</td>\n",
       "      <td>123.0</td>\n",
       "      <td>213.0</td>\n",
       "      <td>NaN</td>\n",
       "      <td>NaN</td>\n",
       "      <td>NaN</td>\n",
       "    </tr>\n",
       "    <tr>\n",
       "      <th>54626</th>\n",
       "      <td>5/9/2023</td>\n",
       "      <td>Wyoming</td>\n",
       "      <td>NaN</td>\n",
       "      <td>NaN</td>\n",
       "      <td>NaN</td>\n",
       "      <td>NaN</td>\n",
       "      <td>NaN</td>\n",
       "      <td>NaN</td>\n",
       "      <td>NaN</td>\n",
       "      <td>NaN</td>\n",
       "      <td>NaN</td>\n",
       "      <td>146.0</td>\n",
       "      <td>252.0</td>\n",
       "      <td>NaN</td>\n",
       "      <td>NaN</td>\n",
       "      <td>NaN</td>\n",
       "    </tr>\n",
       "    <tr>\n",
       "      <th>54627</th>\n",
       "      <td>5/10/2023</td>\n",
       "      <td>Wyoming</td>\n",
       "      <td>854132.0</td>\n",
       "      <td>1281755.0</td>\n",
       "      <td>353727.0</td>\n",
       "      <td>53.15</td>\n",
       "      <td>147.58</td>\n",
       "      <td>307619.0</td>\n",
       "      <td>61.12</td>\n",
       "      <td>221.47</td>\n",
       "      <td>NaN</td>\n",
       "      <td>170.0</td>\n",
       "      <td>294.0</td>\n",
       "      <td>0.666</td>\n",
       "      <td>219773.0</td>\n",
       "      <td>37.97</td>\n",
       "    </tr>\n",
       "  </tbody>\n",
       "</table>\n",
       "<p>54628 rows × 16 columns</p>\n",
       "</div>"
      ],
      "text/plain": [
       "            date location  total_vaccinations  total_distributed  \\\n",
       "0      1/12/2021  Alabama             78134.0           377025.0   \n",
       "1      1/13/2021  Alabama             84040.0           378975.0   \n",
       "2      1/14/2021  Alabama             92300.0           435350.0   \n",
       "3      1/15/2021  Alabama            100567.0           444650.0   \n",
       "4      1/16/2021  Alabama                 NaN                NaN   \n",
       "...          ...      ...                 ...                ...   \n",
       "54623   5/6/2023  Wyoming                 NaN                NaN   \n",
       "54624   5/7/2023  Wyoming                 NaN                NaN   \n",
       "54625   5/8/2023  Wyoming                 NaN                NaN   \n",
       "54626   5/9/2023  Wyoming                 NaN                NaN   \n",
       "54627  5/10/2023  Wyoming            854132.0          1281755.0   \n",
       "\n",
       "       people_vaccinated  people_fully_vaccinated_per_hundred  \\\n",
       "0                70861.0                                 0.15   \n",
       "1                74792.0                                 0.19   \n",
       "2                80480.0                                  NaN   \n",
       "3                86956.0                                 0.28   \n",
       "4                    NaN                                  NaN   \n",
       "...                  ...                                  ...   \n",
       "54623                NaN                                  NaN   \n",
       "54624                NaN                                  NaN   \n",
       "54625                NaN                                  NaN   \n",
       "54626                NaN                                  NaN   \n",
       "54627           353727.0                                53.15   \n",
       "\n",
       "       total_vaccinations_per_hundred  people_fully_vaccinated  \\\n",
       "0                                1.59                   7270.0   \n",
       "1                                1.71                   9245.0   \n",
       "2                                1.88                      NaN   \n",
       "3                                2.05                  13488.0   \n",
       "4                                 NaN                      NaN   \n",
       "...                               ...                      ...   \n",
       "54623                             NaN                      NaN   \n",
       "54624                             NaN                      NaN   \n",
       "54625                             NaN                      NaN   \n",
       "54626                             NaN                      NaN   \n",
       "54627                          147.58                 307619.0   \n",
       "\n",
       "       people_vaccinated_per_hundred  distributed_per_hundred  \\\n",
       "0                               1.45                     7.69   \n",
       "1                               1.53                     7.73   \n",
       "2                               1.64                     8.88   \n",
       "3                               1.77                     9.07   \n",
       "4                                NaN                      NaN   \n",
       "...                              ...                      ...   \n",
       "54623                            NaN                      NaN   \n",
       "54624                            NaN                      NaN   \n",
       "54625                            NaN                      NaN   \n",
       "54626                            NaN                      NaN   \n",
       "54627                          61.12                   221.47   \n",
       "\n",
       "       daily_vaccinations_raw  daily_vaccinations  \\\n",
       "0                         NaN                 NaN   \n",
       "1                      5906.0              5906.0   \n",
       "2                      8260.0              7083.0   \n",
       "3                      8267.0              7478.0   \n",
       "4                         NaN              7498.0   \n",
       "...                       ...                 ...   \n",
       "54623                     NaN                77.0   \n",
       "54624                     NaN               100.0   \n",
       "54625                     NaN               123.0   \n",
       "54626                     NaN               146.0   \n",
       "54627                     NaN               170.0   \n",
       "\n",
       "       daily_vaccinations_per_million  share_doses_used  total_boosters  \\\n",
       "0                                 NaN             0.207             NaN   \n",
       "1                              1205.0             0.222             NaN   \n",
       "2                              1445.0             0.212             NaN   \n",
       "3                              1525.0             0.226             NaN   \n",
       "4                              1529.0               NaN             NaN   \n",
       "...                               ...               ...             ...   \n",
       "54623                           133.0               NaN             NaN   \n",
       "54624                           173.0               NaN             NaN   \n",
       "54625                           213.0               NaN             NaN   \n",
       "54626                           252.0               NaN             NaN   \n",
       "54627                           294.0             0.666        219773.0   \n",
       "\n",
       "       total_boosters_per_hundred  \n",
       "0                             NaN  \n",
       "1                             NaN  \n",
       "2                             NaN  \n",
       "3                             NaN  \n",
       "4                             NaN  \n",
       "...                           ...  \n",
       "54623                         NaN  \n",
       "54624                         NaN  \n",
       "54625                         NaN  \n",
       "54626                         NaN  \n",
       "54627                       37.97  \n",
       "\n",
       "[54628 rows x 16 columns]"
      ]
     },
     "execution_count": 71,
     "metadata": {},
     "output_type": "execute_result"
    }
   ],
   "source": [
    "# Loading the COVID-19 vaccination data\n",
    "\n",
    "covid_19_vaccine_df = pd.read_csv('resources\\COVID Vaccination.csv')\n",
    "\n",
    "covid_19_vaccine_df"
   ]
  },
  {
   "cell_type": "code",
   "execution_count": 72,
   "id": "6b31fe02",
   "metadata": {},
   "outputs": [
    {
     "data": {
      "text/html": [
       "<div>\n",
       "<style scoped>\n",
       "    .dataframe tbody tr th:only-of-type {\n",
       "        vertical-align: middle;\n",
       "    }\n",
       "\n",
       "    .dataframe tbody tr th {\n",
       "        vertical-align: top;\n",
       "    }\n",
       "\n",
       "    .dataframe thead th {\n",
       "        text-align: right;\n",
       "    }\n",
       "</style>\n",
       "<table border=\"1\" class=\"dataframe\">\n",
       "  <thead>\n",
       "    <tr style=\"text-align: right;\">\n",
       "      <th></th>\n",
       "      <th>date</th>\n",
       "      <th>State</th>\n",
       "      <th>total_vaccinations</th>\n",
       "    </tr>\n",
       "  </thead>\n",
       "  <tbody>\n",
       "    <tr>\n",
       "      <th>0</th>\n",
       "      <td>1/12/2021</td>\n",
       "      <td>Alabama</td>\n",
       "      <td>78134.0</td>\n",
       "    </tr>\n",
       "    <tr>\n",
       "      <th>1</th>\n",
       "      <td>1/13/2021</td>\n",
       "      <td>Alabama</td>\n",
       "      <td>84040.0</td>\n",
       "    </tr>\n",
       "    <tr>\n",
       "      <th>2</th>\n",
       "      <td>1/14/2021</td>\n",
       "      <td>Alabama</td>\n",
       "      <td>92300.0</td>\n",
       "    </tr>\n",
       "    <tr>\n",
       "      <th>3</th>\n",
       "      <td>1/15/2021</td>\n",
       "      <td>Alabama</td>\n",
       "      <td>100567.0</td>\n",
       "    </tr>\n",
       "    <tr>\n",
       "      <th>4</th>\n",
       "      <td>1/16/2021</td>\n",
       "      <td>Alabama</td>\n",
       "      <td>NaN</td>\n",
       "    </tr>\n",
       "    <tr>\n",
       "      <th>...</th>\n",
       "      <td>...</td>\n",
       "      <td>...</td>\n",
       "      <td>...</td>\n",
       "    </tr>\n",
       "    <tr>\n",
       "      <th>54623</th>\n",
       "      <td>5/6/2023</td>\n",
       "      <td>Wyoming</td>\n",
       "      <td>NaN</td>\n",
       "    </tr>\n",
       "    <tr>\n",
       "      <th>54624</th>\n",
       "      <td>5/7/2023</td>\n",
       "      <td>Wyoming</td>\n",
       "      <td>NaN</td>\n",
       "    </tr>\n",
       "    <tr>\n",
       "      <th>54625</th>\n",
       "      <td>5/8/2023</td>\n",
       "      <td>Wyoming</td>\n",
       "      <td>NaN</td>\n",
       "    </tr>\n",
       "    <tr>\n",
       "      <th>54626</th>\n",
       "      <td>5/9/2023</td>\n",
       "      <td>Wyoming</td>\n",
       "      <td>NaN</td>\n",
       "    </tr>\n",
       "    <tr>\n",
       "      <th>54627</th>\n",
       "      <td>5/10/2023</td>\n",
       "      <td>Wyoming</td>\n",
       "      <td>854132.0</td>\n",
       "    </tr>\n",
       "  </tbody>\n",
       "</table>\n",
       "<p>54628 rows × 3 columns</p>\n",
       "</div>"
      ],
      "text/plain": [
       "            date    State  total_vaccinations\n",
       "0      1/12/2021  Alabama             78134.0\n",
       "1      1/13/2021  Alabama             84040.0\n",
       "2      1/14/2021  Alabama             92300.0\n",
       "3      1/15/2021  Alabama            100567.0\n",
       "4      1/16/2021  Alabama                 NaN\n",
       "...          ...      ...                 ...\n",
       "54623   5/6/2023  Wyoming                 NaN\n",
       "54624   5/7/2023  Wyoming                 NaN\n",
       "54625   5/8/2023  Wyoming                 NaN\n",
       "54626   5/9/2023  Wyoming                 NaN\n",
       "54627  5/10/2023  Wyoming            854132.0\n",
       "\n",
       "[54628 rows x 3 columns]"
      ]
     },
     "execution_count": 72,
     "metadata": {},
     "output_type": "execute_result"
    }
   ],
   "source": [
    "# Focusing on only date, location, and total_vaccinations data\n",
    "covid_19_vaccine_df.rename(columns = {'location':'State'}, inplace = True)\n",
    "\n",
    "covid_vaccines_state = covid_19_vaccine_df[['date', 'State', 'total_vaccinations']]\n",
    "\n",
    "covid_vaccines_state"
   ]
  },
  {
   "cell_type": "code",
   "execution_count": 73,
   "id": "41b4ffec",
   "metadata": {},
   "outputs": [
    {
     "data": {
      "text/html": [
       "<div>\n",
       "<style scoped>\n",
       "    .dataframe tbody tr th:only-of-type {\n",
       "        vertical-align: middle;\n",
       "    }\n",
       "\n",
       "    .dataframe tbody tr th {\n",
       "        vertical-align: top;\n",
       "    }\n",
       "\n",
       "    .dataframe thead th {\n",
       "        text-align: right;\n",
       "    }\n",
       "</style>\n",
       "<table border=\"1\" class=\"dataframe\">\n",
       "  <thead>\n",
       "    <tr style=\"text-align: right;\">\n",
       "      <th></th>\n",
       "      <th>State</th>\n",
       "      <th>total_vaccinations</th>\n",
       "    </tr>\n",
       "  </thead>\n",
       "  <tbody>\n",
       "    <tr>\n",
       "      <th>0</th>\n",
       "      <td>United States</td>\n",
       "      <td>1.884953e+11</td>\n",
       "    </tr>\n",
       "    <tr>\n",
       "      <th>1</th>\n",
       "      <td>California</td>\n",
       "      <td>1.932592e+10</td>\n",
       "    </tr>\n",
       "    <tr>\n",
       "      <th>2</th>\n",
       "      <td>Texas</td>\n",
       "      <td>1.432154e+10</td>\n",
       "    </tr>\n",
       "    <tr>\n",
       "      <th>3</th>\n",
       "      <td>New York State</td>\n",
       "      <td>1.415496e+10</td>\n",
       "    </tr>\n",
       "    <tr>\n",
       "      <th>4</th>\n",
       "      <td>Florida</td>\n",
       "      <td>1.376496e+10</td>\n",
       "    </tr>\n",
       "    <tr>\n",
       "      <th>5</th>\n",
       "      <td>Pennsylvania</td>\n",
       "      <td>7.698437e+09</td>\n",
       "    </tr>\n",
       "    <tr>\n",
       "      <th>6</th>\n",
       "      <td>New Jersey</td>\n",
       "      <td>6.102598e+09</td>\n",
       "    </tr>\n",
       "    <tr>\n",
       "      <th>7</th>\n",
       "      <td>Ohio</td>\n",
       "      <td>6.034388e+09</td>\n",
       "    </tr>\n",
       "    <tr>\n",
       "      <th>8</th>\n",
       "      <td>Virginia</td>\n",
       "      <td>5.862231e+09</td>\n",
       "    </tr>\n",
       "    <tr>\n",
       "      <th>9</th>\n",
       "      <td>Michigan</td>\n",
       "      <td>5.790782e+09</td>\n",
       "    </tr>\n",
       "  </tbody>\n",
       "</table>\n",
       "</div>"
      ],
      "text/plain": [
       "            State  total_vaccinations\n",
       "0   United States        1.884953e+11\n",
       "1      California        1.932592e+10\n",
       "2           Texas        1.432154e+10\n",
       "3  New York State        1.415496e+10\n",
       "4         Florida        1.376496e+10\n",
       "5    Pennsylvania        7.698437e+09\n",
       "6      New Jersey        6.102598e+09\n",
       "7            Ohio        6.034388e+09\n",
       "8        Virginia        5.862231e+09\n",
       "9        Michigan        5.790782e+09"
      ]
     },
     "execution_count": 73,
     "metadata": {},
     "output_type": "execute_result"
    }
   ],
   "source": [
    "# Summarize total vaccinations by state\n",
    "total_vaccinations_by_state = covid_vaccines_state.groupby('State')['total_vaccinations'].sum().sort_values(ascending=False)\n",
    "\n",
    "# Convert to DataFrame for visualization\n",
    "total_vaccinations_by_state = total_vaccinations_by_state.reset_index()\n",
    "\n",
    "# Display the top 10 states with the most deaths\n",
    "total_vaccinations_by_state.head(10)"
   ]
  },
  {
   "cell_type": "code",
   "execution_count": null,
   "id": "bfcfff93",
   "metadata": {},
   "outputs": [],
   "source": []
  },
  {
   "cell_type": "code",
   "execution_count": 75,
   "id": "ff67b841",
   "metadata": {},
   "outputs": [
    {
     "data": {
      "text/plain": [
       "array(['United States', 'California', 'Texas', 'New York State',\n",
       "       'Florida', 'Pennsylvania', 'New Jersey', 'Ohio', 'Virginia',\n",
       "       'Michigan', 'North Carolina', 'Georgia', 'Massachusetts',\n",
       "       'Washington', 'Arizona', 'Maryland', 'Illinois', 'Colorado',\n",
       "       'Wisconsin', 'Minnesota', 'Tennessee', 'Indiana', 'Missouri',\n",
       "       'Veterans Health', 'Oregon', 'Connecticut', 'South Carolina',\n",
       "       'Louisiana', 'Alabama', 'Dept of Defense', 'Kentucky', 'Oklahoma',\n",
       "       'Iowa', 'Utah', 'Long Term Care', 'Nevada', 'Arkansas',\n",
       "       'Mississippi', 'New Mexico', 'Kansas', 'Nebraska', 'Puerto Rico',\n",
       "       'Hawaii', 'Maine', 'West Virginia', 'Indian Health Svc',\n",
       "       'Rhode Island', 'Idaho', 'Delaware', 'Montana', 'South Dakota',\n",
       "       'District of Columbia', 'Vermont', 'New Hampshire', 'North Dakota',\n",
       "       'Alaska', 'Wyoming', 'Guam', 'Bureau of Prisons', 'Virgin Islands',\n",
       "       'Federated States of Micronesia', 'Northern Mariana Islands',\n",
       "       'American Samoa', 'Marshall Islands', 'Republic of Palau'],\n",
       "      dtype=object)"
      ]
     },
     "execution_count": 75,
     "metadata": {},
     "output_type": "execute_result"
    }
   ],
   "source": [
    "# Confirming state names\n",
    "\n",
    "total_vaccinations_by_state['State'].unique()"
   ]
  },
  {
   "cell_type": "code",
   "execution_count": 76,
   "id": "15ce9e80",
   "metadata": {},
   "outputs": [
    {
     "data": {
      "text/plain": [
       "array(['California', 'Texas', 'New York State', 'Florida', 'Pennsylvania',\n",
       "       'New Jersey', 'Ohio', 'Virginia', 'Michigan', 'North Carolina',\n",
       "       'Georgia', 'Massachusetts', 'Washington', 'Arizona', 'Maryland',\n",
       "       'Illinois', 'Colorado', 'Wisconsin', 'Minnesota', 'Tennessee',\n",
       "       'Indiana', 'Missouri', 'Veterans Health', 'Oregon', 'Connecticut',\n",
       "       'South Carolina', 'Louisiana', 'Alabama', 'Dept of Defense',\n",
       "       'Kentucky', 'Oklahoma', 'Iowa', 'Utah', 'Long Term Care', 'Nevada',\n",
       "       'Arkansas', 'Mississippi', 'New Mexico', 'Kansas', 'Nebraska',\n",
       "       'Puerto Rico', 'Hawaii', 'Maine', 'West Virginia',\n",
       "       'Indian Health Svc', 'Rhode Island', 'Idaho', 'Delaware',\n",
       "       'Montana', 'South Dakota', 'District of Columbia', 'Vermont',\n",
       "       'New Hampshire', 'North Dakota', 'Alaska', 'Wyoming', 'Guam',\n",
       "       'Bureau of Prisons', 'Virgin Islands',\n",
       "       'Federated States of Micronesia', 'Northern Mariana Islands',\n",
       "       'American Samoa', 'Marshall Islands', 'Republic of Palau'],\n",
       "      dtype=object)"
      ]
     },
     "execution_count": 76,
     "metadata": {},
     "output_type": "execute_result"
    }
   ],
   "source": [
    "# Deleting 'United States'\n",
    "\n",
    "total_vaccinations_by_state = total_vaccinations_by_state.drop(total_vaccinations_by_state[total_vaccinations_by_state['State'] == 'United States'].index)\n",
    "\n",
    "total_vaccinations_by_state['State'].unique()"
   ]
  },
  {
   "cell_type": "code",
   "execution_count": 79,
   "id": "0f7b7762",
   "metadata": {},
   "outputs": [
    {
     "data": {
      "text/html": [
       "<div>\n",
       "<style scoped>\n",
       "    .dataframe tbody tr th:only-of-type {\n",
       "        vertical-align: middle;\n",
       "    }\n",
       "\n",
       "    .dataframe tbody tr th {\n",
       "        vertical-align: top;\n",
       "    }\n",
       "\n",
       "    .dataframe thead th {\n",
       "        text-align: right;\n",
       "    }\n",
       "</style>\n",
       "<table border=\"1\" class=\"dataframe\">\n",
       "  <thead>\n",
       "    <tr style=\"text-align: right;\">\n",
       "      <th></th>\n",
       "      <th>State</th>\n",
       "      <th>Total Deaths</th>\n",
       "      <th>total_vaccinations</th>\n",
       "    </tr>\n",
       "  </thead>\n",
       "  <tbody>\n",
       "    <tr>\n",
       "      <th>0</th>\n",
       "      <td>Texas</td>\n",
       "      <td>27088</td>\n",
       "      <td>1.432154e+10</td>\n",
       "    </tr>\n",
       "    <tr>\n",
       "      <th>1</th>\n",
       "      <td>California</td>\n",
       "      <td>24958</td>\n",
       "      <td>1.932592e+10</td>\n",
       "    </tr>\n",
       "    <tr>\n",
       "      <th>2</th>\n",
       "      <td>Florida</td>\n",
       "      <td>21546</td>\n",
       "      <td>1.376496e+10</td>\n",
       "    </tr>\n",
       "    <tr>\n",
       "      <th>3</th>\n",
       "      <td>New Jersey</td>\n",
       "      <td>18952</td>\n",
       "      <td>6.102598e+09</td>\n",
       "    </tr>\n",
       "    <tr>\n",
       "      <th>4</th>\n",
       "      <td>Illinois</td>\n",
       "      <td>17811</td>\n",
       "      <td>4.002168e+09</td>\n",
       "    </tr>\n",
       "    <tr>\n",
       "      <th>5</th>\n",
       "      <td>Pennsylvania</td>\n",
       "      <td>15672</td>\n",
       "      <td>7.698437e+09</td>\n",
       "    </tr>\n",
       "    <tr>\n",
       "      <th>6</th>\n",
       "      <td>Michigan</td>\n",
       "      <td>13018</td>\n",
       "      <td>5.790782e+09</td>\n",
       "    </tr>\n",
       "    <tr>\n",
       "      <th>7</th>\n",
       "      <td>New York</td>\n",
       "      <td>12466</td>\n",
       "      <td>NaN</td>\n",
       "    </tr>\n",
       "    <tr>\n",
       "      <th>8</th>\n",
       "      <td>Massachusetts</td>\n",
       "      <td>12284</td>\n",
       "      <td>5.349999e+09</td>\n",
       "    </tr>\n",
       "    <tr>\n",
       "      <th>9</th>\n",
       "      <td>Georgia</td>\n",
       "      <td>10846</td>\n",
       "      <td>5.379195e+09</td>\n",
       "    </tr>\n",
       "  </tbody>\n",
       "</table>\n",
       "</div>"
      ],
      "text/plain": [
       "           State  Total Deaths  total_vaccinations\n",
       "0          Texas         27088        1.432154e+10\n",
       "1     California         24958        1.932592e+10\n",
       "2        Florida         21546        1.376496e+10\n",
       "3     New Jersey         18952        6.102598e+09\n",
       "4       Illinois         17811        4.002168e+09\n",
       "5   Pennsylvania         15672        7.698437e+09\n",
       "6       Michigan         13018        5.790782e+09\n",
       "7       New York         12466                 NaN\n",
       "8  Massachusetts         12284        5.349999e+09\n",
       "9        Georgia         10846        5.379195e+09"
      ]
     },
     "execution_count": 79,
     "metadata": {},
     "output_type": "execute_result"
    }
   ],
   "source": [
    "# Joining deaths summary and vaccinations summary by state \n",
    "\n",
    "merged_data = pd.merge(total_deaths_by_state_df, total_vaccinations_by_state, on = 'State', how = 'left')\n",
    "\n",
    "# Display the merged data to check the initial relationship\n",
    "merged_data.head(10)"
   ]
  },
  {
   "cell_type": "code",
   "execution_count": 88,
   "id": "a4174c0c",
   "metadata": {},
   "outputs": [
    {
     "data": {
      "application/vnd.plotly.v1+json": {
       "config": {
        "plotlyServerURL": "https://plot.ly"
       },
       "data": [
        {
         "coloraxis": "coloraxis",
         "geo": "geo",
         "hovertemplate": "<b>%{hovertext}</b><br><br>State Code=%{location}<br>Total Deaths=%{z}<extra></extra>",
         "hovertext": [
          "Texas",
          "California",
          "Florida",
          "New Jersey",
          "Illinois",
          "Pennsylvania",
          "Michigan",
          "New York",
          "Massachusetts",
          "Georgia",
          "Ohio",
          "Arizona",
          "Indiana",
          "Louisiana",
          "Tennessee",
          "North Carolina",
          "Connecticut",
          "Maryland",
          "Missouri",
          "Minnesota",
          "South Carolina",
          "Wisconsin",
          "Virginia",
          "Mississippi",
          "Alabama",
          "Colorado",
          "Iowa",
          "Arkansas",
          "Washington",
          "Nevada",
          "Kansas",
          "Kentucky",
          "Oklahoma",
          "New Mexico",
          "Rhode Island",
          "Nebraska",
          "Puerto Rico",
          "Oregon",
          "South Dakota",
          "Idaho",
          "West Virginia",
          "North Dakota",
          "Utah",
          "Montana",
          "Delaware",
          "District of Columbia",
          "New Hampshire",
          "Wyoming",
          "Maine",
          "Hawaii",
          "Alaska",
          "Vermont",
          "Virgin Islands"
         ],
         "locationmode": "USA-states",
         "locations": [
          "TX",
          "CA",
          "FL",
          "NJ",
          "IL",
          "PA",
          "MI",
          "NY",
          "MA",
          "GA",
          "OH",
          "AZ",
          "IN",
          "LA",
          "TN",
          "NC",
          "CT",
          "MD",
          "MO",
          "MN",
          "SC",
          "WI",
          "VA",
          "MS",
          "AL",
          "CO",
          "IA",
          "AR",
          "WA",
          "NV",
          "KS",
          "KY",
          "OK",
          "NM",
          "RI",
          "NE",
          null,
          "OR",
          "SD",
          "ID",
          "WV",
          "ND",
          "UT",
          "MT",
          "DE",
          null,
          "NH",
          "WY",
          "ME",
          "HI",
          "AK",
          "VT",
          null
         ],
         "name": "",
         "type": "choropleth",
         "z": [
          27088,
          24958,
          21546,
          18952,
          17811,
          15672,
          13018,
          12466,
          12284,
          10846,
          8855,
          8718,
          8160,
          7448,
          6810,
          6729,
          5964,
          5895,
          5491,
          5321,
          5249,
          5192,
          5032,
          4787,
          4774,
          4750,
          3822,
          3637,
          3420,
          3066,
          2741,
          2623,
          2496,
          2436,
          1777,
          1611,
          1503,
          1468,
          1464,
          1403,
          1318,
          1292,
          1256,
          950,
          921,
          780,
          741,
          405,
          344,
          283,
          202,
          134,
          23
         ]
        }
       ],
       "layout": {
        "coloraxis": {
         "colorbar": {
          "title": {
           "text": "Total Deaths"
          }
         },
         "colorscale": [
          [
           0,
           "#440154"
          ],
          [
           0.1111111111111111,
           "#482878"
          ],
          [
           0.2222222222222222,
           "#3e4989"
          ],
          [
           0.3333333333333333,
           "#31688e"
          ],
          [
           0.4444444444444444,
           "#26828e"
          ],
          [
           0.5555555555555556,
           "#1f9e89"
          ],
          [
           0.6666666666666666,
           "#35b779"
          ],
          [
           0.7777777777777778,
           "#6ece58"
          ],
          [
           0.8888888888888888,
           "#b5de2b"
          ],
          [
           1,
           "#fde725"
          ]
         ]
        },
        "geo": {
         "center": {},
         "domain": {
          "x": [
           0,
           1
          ],
          "y": [
           0,
           1
          ]
         },
         "scope": "usa"
        },
        "legend": {
         "tracegroupgap": 0
        },
        "template": {
         "data": {
          "bar": [
           {
            "error_x": {
             "color": "#2a3f5f"
            },
            "error_y": {
             "color": "#2a3f5f"
            },
            "marker": {
             "line": {
              "color": "#E5ECF6",
              "width": 0.5
             },
             "pattern": {
              "fillmode": "overlay",
              "size": 10,
              "solidity": 0.2
             }
            },
            "type": "bar"
           }
          ],
          "barpolar": [
           {
            "marker": {
             "line": {
              "color": "#E5ECF6",
              "width": 0.5
             },
             "pattern": {
              "fillmode": "overlay",
              "size": 10,
              "solidity": 0.2
             }
            },
            "type": "barpolar"
           }
          ],
          "carpet": [
           {
            "aaxis": {
             "endlinecolor": "#2a3f5f",
             "gridcolor": "white",
             "linecolor": "white",
             "minorgridcolor": "white",
             "startlinecolor": "#2a3f5f"
            },
            "baxis": {
             "endlinecolor": "#2a3f5f",
             "gridcolor": "white",
             "linecolor": "white",
             "minorgridcolor": "white",
             "startlinecolor": "#2a3f5f"
            },
            "type": "carpet"
           }
          ],
          "choropleth": [
           {
            "colorbar": {
             "outlinewidth": 0,
             "ticks": ""
            },
            "type": "choropleth"
           }
          ],
          "contour": [
           {
            "colorbar": {
             "outlinewidth": 0,
             "ticks": ""
            },
            "colorscale": [
             [
              0,
              "#0d0887"
             ],
             [
              0.1111111111111111,
              "#46039f"
             ],
             [
              0.2222222222222222,
              "#7201a8"
             ],
             [
              0.3333333333333333,
              "#9c179e"
             ],
             [
              0.4444444444444444,
              "#bd3786"
             ],
             [
              0.5555555555555556,
              "#d8576b"
             ],
             [
              0.6666666666666666,
              "#ed7953"
             ],
             [
              0.7777777777777778,
              "#fb9f3a"
             ],
             [
              0.8888888888888888,
              "#fdca26"
             ],
             [
              1,
              "#f0f921"
             ]
            ],
            "type": "contour"
           }
          ],
          "contourcarpet": [
           {
            "colorbar": {
             "outlinewidth": 0,
             "ticks": ""
            },
            "type": "contourcarpet"
           }
          ],
          "heatmap": [
           {
            "colorbar": {
             "outlinewidth": 0,
             "ticks": ""
            },
            "colorscale": [
             [
              0,
              "#0d0887"
             ],
             [
              0.1111111111111111,
              "#46039f"
             ],
             [
              0.2222222222222222,
              "#7201a8"
             ],
             [
              0.3333333333333333,
              "#9c179e"
             ],
             [
              0.4444444444444444,
              "#bd3786"
             ],
             [
              0.5555555555555556,
              "#d8576b"
             ],
             [
              0.6666666666666666,
              "#ed7953"
             ],
             [
              0.7777777777777778,
              "#fb9f3a"
             ],
             [
              0.8888888888888888,
              "#fdca26"
             ],
             [
              1,
              "#f0f921"
             ]
            ],
            "type": "heatmap"
           }
          ],
          "heatmapgl": [
           {
            "colorbar": {
             "outlinewidth": 0,
             "ticks": ""
            },
            "colorscale": [
             [
              0,
              "#0d0887"
             ],
             [
              0.1111111111111111,
              "#46039f"
             ],
             [
              0.2222222222222222,
              "#7201a8"
             ],
             [
              0.3333333333333333,
              "#9c179e"
             ],
             [
              0.4444444444444444,
              "#bd3786"
             ],
             [
              0.5555555555555556,
              "#d8576b"
             ],
             [
              0.6666666666666666,
              "#ed7953"
             ],
             [
              0.7777777777777778,
              "#fb9f3a"
             ],
             [
              0.8888888888888888,
              "#fdca26"
             ],
             [
              1,
              "#f0f921"
             ]
            ],
            "type": "heatmapgl"
           }
          ],
          "histogram": [
           {
            "marker": {
             "pattern": {
              "fillmode": "overlay",
              "size": 10,
              "solidity": 0.2
             }
            },
            "type": "histogram"
           }
          ],
          "histogram2d": [
           {
            "colorbar": {
             "outlinewidth": 0,
             "ticks": ""
            },
            "colorscale": [
             [
              0,
              "#0d0887"
             ],
             [
              0.1111111111111111,
              "#46039f"
             ],
             [
              0.2222222222222222,
              "#7201a8"
             ],
             [
              0.3333333333333333,
              "#9c179e"
             ],
             [
              0.4444444444444444,
              "#bd3786"
             ],
             [
              0.5555555555555556,
              "#d8576b"
             ],
             [
              0.6666666666666666,
              "#ed7953"
             ],
             [
              0.7777777777777778,
              "#fb9f3a"
             ],
             [
              0.8888888888888888,
              "#fdca26"
             ],
             [
              1,
              "#f0f921"
             ]
            ],
            "type": "histogram2d"
           }
          ],
          "histogram2dcontour": [
           {
            "colorbar": {
             "outlinewidth": 0,
             "ticks": ""
            },
            "colorscale": [
             [
              0,
              "#0d0887"
             ],
             [
              0.1111111111111111,
              "#46039f"
             ],
             [
              0.2222222222222222,
              "#7201a8"
             ],
             [
              0.3333333333333333,
              "#9c179e"
             ],
             [
              0.4444444444444444,
              "#bd3786"
             ],
             [
              0.5555555555555556,
              "#d8576b"
             ],
             [
              0.6666666666666666,
              "#ed7953"
             ],
             [
              0.7777777777777778,
              "#fb9f3a"
             ],
             [
              0.8888888888888888,
              "#fdca26"
             ],
             [
              1,
              "#f0f921"
             ]
            ],
            "type": "histogram2dcontour"
           }
          ],
          "mesh3d": [
           {
            "colorbar": {
             "outlinewidth": 0,
             "ticks": ""
            },
            "type": "mesh3d"
           }
          ],
          "parcoords": [
           {
            "line": {
             "colorbar": {
              "outlinewidth": 0,
              "ticks": ""
             }
            },
            "type": "parcoords"
           }
          ],
          "pie": [
           {
            "automargin": true,
            "type": "pie"
           }
          ],
          "scatter": [
           {
            "fillpattern": {
             "fillmode": "overlay",
             "size": 10,
             "solidity": 0.2
            },
            "type": "scatter"
           }
          ],
          "scatter3d": [
           {
            "line": {
             "colorbar": {
              "outlinewidth": 0,
              "ticks": ""
             }
            },
            "marker": {
             "colorbar": {
              "outlinewidth": 0,
              "ticks": ""
             }
            },
            "type": "scatter3d"
           }
          ],
          "scattercarpet": [
           {
            "marker": {
             "colorbar": {
              "outlinewidth": 0,
              "ticks": ""
             }
            },
            "type": "scattercarpet"
           }
          ],
          "scattergeo": [
           {
            "marker": {
             "colorbar": {
              "outlinewidth": 0,
              "ticks": ""
             }
            },
            "type": "scattergeo"
           }
          ],
          "scattergl": [
           {
            "marker": {
             "colorbar": {
              "outlinewidth": 0,
              "ticks": ""
             }
            },
            "type": "scattergl"
           }
          ],
          "scattermapbox": [
           {
            "marker": {
             "colorbar": {
              "outlinewidth": 0,
              "ticks": ""
             }
            },
            "type": "scattermapbox"
           }
          ],
          "scatterpolar": [
           {
            "marker": {
             "colorbar": {
              "outlinewidth": 0,
              "ticks": ""
             }
            },
            "type": "scatterpolar"
           }
          ],
          "scatterpolargl": [
           {
            "marker": {
             "colorbar": {
              "outlinewidth": 0,
              "ticks": ""
             }
            },
            "type": "scatterpolargl"
           }
          ],
          "scatterternary": [
           {
            "marker": {
             "colorbar": {
              "outlinewidth": 0,
              "ticks": ""
             }
            },
            "type": "scatterternary"
           }
          ],
          "surface": [
           {
            "colorbar": {
             "outlinewidth": 0,
             "ticks": ""
            },
            "colorscale": [
             [
              0,
              "#0d0887"
             ],
             [
              0.1111111111111111,
              "#46039f"
             ],
             [
              0.2222222222222222,
              "#7201a8"
             ],
             [
              0.3333333333333333,
              "#9c179e"
             ],
             [
              0.4444444444444444,
              "#bd3786"
             ],
             [
              0.5555555555555556,
              "#d8576b"
             ],
             [
              0.6666666666666666,
              "#ed7953"
             ],
             [
              0.7777777777777778,
              "#fb9f3a"
             ],
             [
              0.8888888888888888,
              "#fdca26"
             ],
             [
              1,
              "#f0f921"
             ]
            ],
            "type": "surface"
           }
          ],
          "table": [
           {
            "cells": {
             "fill": {
              "color": "#EBF0F8"
             },
             "line": {
              "color": "white"
             }
            },
            "header": {
             "fill": {
              "color": "#C8D4E3"
             },
             "line": {
              "color": "white"
             }
            },
            "type": "table"
           }
          ]
         },
         "layout": {
          "annotationdefaults": {
           "arrowcolor": "#2a3f5f",
           "arrowhead": 0,
           "arrowwidth": 1
          },
          "autotypenumbers": "strict",
          "coloraxis": {
           "colorbar": {
            "outlinewidth": 0,
            "ticks": ""
           }
          },
          "colorscale": {
           "diverging": [
            [
             0,
             "#8e0152"
            ],
            [
             0.1,
             "#c51b7d"
            ],
            [
             0.2,
             "#de77ae"
            ],
            [
             0.3,
             "#f1b6da"
            ],
            [
             0.4,
             "#fde0ef"
            ],
            [
             0.5,
             "#f7f7f7"
            ],
            [
             0.6,
             "#e6f5d0"
            ],
            [
             0.7,
             "#b8e186"
            ],
            [
             0.8,
             "#7fbc41"
            ],
            [
             0.9,
             "#4d9221"
            ],
            [
             1,
             "#276419"
            ]
           ],
           "sequential": [
            [
             0,
             "#0d0887"
            ],
            [
             0.1111111111111111,
             "#46039f"
            ],
            [
             0.2222222222222222,
             "#7201a8"
            ],
            [
             0.3333333333333333,
             "#9c179e"
            ],
            [
             0.4444444444444444,
             "#bd3786"
            ],
            [
             0.5555555555555556,
             "#d8576b"
            ],
            [
             0.6666666666666666,
             "#ed7953"
            ],
            [
             0.7777777777777778,
             "#fb9f3a"
            ],
            [
             0.8888888888888888,
             "#fdca26"
            ],
            [
             1,
             "#f0f921"
            ]
           ],
           "sequentialminus": [
            [
             0,
             "#0d0887"
            ],
            [
             0.1111111111111111,
             "#46039f"
            ],
            [
             0.2222222222222222,
             "#7201a8"
            ],
            [
             0.3333333333333333,
             "#9c179e"
            ],
            [
             0.4444444444444444,
             "#bd3786"
            ],
            [
             0.5555555555555556,
             "#d8576b"
            ],
            [
             0.6666666666666666,
             "#ed7953"
            ],
            [
             0.7777777777777778,
             "#fb9f3a"
            ],
            [
             0.8888888888888888,
             "#fdca26"
            ],
            [
             1,
             "#f0f921"
            ]
           ]
          },
          "colorway": [
           "#636efa",
           "#EF553B",
           "#00cc96",
           "#ab63fa",
           "#FFA15A",
           "#19d3f3",
           "#FF6692",
           "#B6E880",
           "#FF97FF",
           "#FECB52"
          ],
          "font": {
           "color": "#2a3f5f"
          },
          "geo": {
           "bgcolor": "white",
           "lakecolor": "white",
           "landcolor": "#E5ECF6",
           "showlakes": true,
           "showland": true,
           "subunitcolor": "white"
          },
          "hoverlabel": {
           "align": "left"
          },
          "hovermode": "closest",
          "mapbox": {
           "style": "light"
          },
          "paper_bgcolor": "white",
          "plot_bgcolor": "#E5ECF6",
          "polar": {
           "angularaxis": {
            "gridcolor": "white",
            "linecolor": "white",
            "ticks": ""
           },
           "bgcolor": "#E5ECF6",
           "radialaxis": {
            "gridcolor": "white",
            "linecolor": "white",
            "ticks": ""
           }
          },
          "scene": {
           "xaxis": {
            "backgroundcolor": "#E5ECF6",
            "gridcolor": "white",
            "gridwidth": 2,
            "linecolor": "white",
            "showbackground": true,
            "ticks": "",
            "zerolinecolor": "white"
           },
           "yaxis": {
            "backgroundcolor": "#E5ECF6",
            "gridcolor": "white",
            "gridwidth": 2,
            "linecolor": "white",
            "showbackground": true,
            "ticks": "",
            "zerolinecolor": "white"
           },
           "zaxis": {
            "backgroundcolor": "#E5ECF6",
            "gridcolor": "white",
            "gridwidth": 2,
            "linecolor": "white",
            "showbackground": true,
            "ticks": "",
            "zerolinecolor": "white"
           }
          },
          "shapedefaults": {
           "line": {
            "color": "#2a3f5f"
           }
          },
          "ternary": {
           "aaxis": {
            "gridcolor": "white",
            "linecolor": "white",
            "ticks": ""
           },
           "baxis": {
            "gridcolor": "white",
            "linecolor": "white",
            "ticks": ""
           },
           "bgcolor": "#E5ECF6",
           "caxis": {
            "gridcolor": "white",
            "linecolor": "white",
            "ticks": ""
           }
          },
          "title": {
           "x": 0.05
          },
          "xaxis": {
           "automargin": true,
           "gridcolor": "white",
           "linecolor": "white",
           "ticks": "",
           "title": {
            "standoff": 15
           },
           "zerolinecolor": "white",
           "zerolinewidth": 2
          },
          "yaxis": {
           "automargin": true,
           "gridcolor": "white",
           "linecolor": "white",
           "ticks": "",
           "title": {
            "standoff": 15
           },
           "zerolinecolor": "white",
           "zerolinewidth": 2
          }
         }
        },
        "title": {
         "text": "COVID-19 Total Deaths by State"
        }
       }
      }
     },
     "metadata": {},
     "output_type": "display_data"
    }
   ],
   "source": [
    "import plotly.express as px\n",
    "\n",
    "merged_data['Total Deaths'] = merged_data['Total Deaths'].fillna(0)\n",
    "\n",
    "state_abbreviations = {\n",
    "    'Alabama': 'AL', 'Alaska': 'AK', 'Arizona': 'AZ', 'Arkansas': 'AR',\n",
    "    'California': 'CA', 'Colorado': 'CO', 'Connecticut': 'CT', 'Delaware': 'DE',\n",
    "    'Florida': 'FL', 'Georgia': 'GA', 'Hawaii': 'HI', 'Idaho': 'ID',\n",
    "    'Illinois': 'IL', 'Indiana': 'IN', 'Iowa': 'IA', 'Kansas': 'KS',\n",
    "    'Kentucky': 'KY', 'Louisiana': 'LA', 'Maine': 'ME', 'Maryland': 'MD',\n",
    "    'Massachusetts': 'MA', 'Michigan': 'MI', 'Minnesota': 'MN', 'Mississippi': 'MS',\n",
    "    'Missouri': 'MO', 'Montana': 'MT', 'Nebraska': 'NE', 'Nevada': 'NV',\n",
    "    'New Hampshire': 'NH', 'New Jersey': 'NJ', 'New Mexico': 'NM', 'New York': 'NY',\n",
    "    'North Carolina': 'NC', 'North Dakota': 'ND', 'Ohio': 'OH', 'Oklahoma': 'OK',\n",
    "    'Oregon': 'OR', 'Pennsylvania': 'PA', 'Rhode Island': 'RI', 'South Carolina': 'SC',\n",
    "    'South Dakota': 'SD', 'Tennessee': 'TN', 'Texas': 'TX', 'Utah': 'UT',\n",
    "    'Vermont': 'VT', 'Virginia': 'VA', 'Washington': 'WA', 'West Virginia': 'WV',\n",
    "    'Wisconsin': 'WI', 'Wyoming': 'WY'\n",
    "}\n",
    "\n",
    "# Add a column for state abbreviations\n",
    "merged_data['State Code'] = merged_data['State'].map(state_abbreviations)\n",
    "\n",
    "\n",
    "fig = px.choropleth(merged_data,\n",
    "                    locations='State Code',\n",
    "                    locationmode=\"USA-states\",\n",
    "                    color='Total Deaths',\n",
    "                    hover_name='State',\n",
    "                    scope=\"usa\",\n",
    "                    color_continuous_scale=\"Viridis\",\n",
    "                    title='COVID-19 Total Deaths by State')\n",
    "fig.show()\n"
   ]
  },
  {
   "cell_type": "code",
   "execution_count": 89,
   "id": "03795758",
   "metadata": {},
   "outputs": [
    {
     "data": {
      "application/vnd.plotly.v1+json": {
       "config": {
        "plotlyServerURL": "https://plot.ly"
       },
       "data": [
        {
         "coloraxis": "coloraxis",
         "geo": "geo",
         "hovertemplate": "<b>%{hovertext}</b><br><br>State Code=%{location}<br>total_vaccinations=%{z}<extra></extra>",
         "hovertext": [
          "Texas",
          "California",
          "Florida",
          "New Jersey",
          "Illinois",
          "Pennsylvania",
          "Michigan",
          "New York",
          "Massachusetts",
          "Georgia",
          "Ohio",
          "Arizona",
          "Indiana",
          "Louisiana",
          "Tennessee",
          "North Carolina",
          "Connecticut",
          "Maryland",
          "Missouri",
          "Minnesota",
          "South Carolina",
          "Wisconsin",
          "Virginia",
          "Mississippi",
          "Alabama",
          "Colorado",
          "Iowa",
          "Arkansas",
          "Washington",
          "Nevada",
          "Kansas",
          "Kentucky",
          "Oklahoma",
          "New Mexico",
          "Rhode Island",
          "Nebraska",
          "Puerto Rico",
          "Oregon",
          "South Dakota",
          "Idaho",
          "West Virginia",
          "North Dakota",
          "Utah",
          "Montana",
          "Delaware",
          "District of Columbia",
          "New Hampshire",
          "Wyoming",
          "Maine",
          "Hawaii",
          "Alaska",
          "Vermont",
          "Virgin Islands"
         ],
         "locationmode": "USA-states",
         "locations": [
          "TX",
          "CA",
          "FL",
          "NJ",
          "IL",
          "PA",
          "MI",
          "NY",
          "MA",
          "GA",
          "OH",
          "AZ",
          "IN",
          "LA",
          "TN",
          "NC",
          "CT",
          "MD",
          "MO",
          "MN",
          "SC",
          "WI",
          "VA",
          "MS",
          "AL",
          "CO",
          "IA",
          "AR",
          "WA",
          "NV",
          "KS",
          "KY",
          "OK",
          "NM",
          "RI",
          "NE",
          null,
          "OR",
          "SD",
          "ID",
          "WV",
          "ND",
          "UT",
          "MT",
          "DE",
          null,
          "NH",
          "WY",
          "ME",
          "HI",
          "AK",
          "VT",
          null
         ],
         "name": "",
         "type": "choropleth",
         "z": [
          14321536085,
          19325924806,
          13764960192,
          6102598320,
          4002168017,
          7698437216,
          5790782481,
          0,
          5349998760,
          5379194901,
          6034387629,
          4390959779,
          3596668757,
          2329287428,
          3632901154,
          5683871877,
          2786242157,
          4254471444,
          3348722128,
          3796369042,
          2761495638,
          3805770953,
          5862230792,
          1419898624,
          2303897101,
          3954741267,
          1918848515,
          1569412128,
          4875850558,
          1742944862,
          1191995401,
          2233328457,
          2209910090,
          1320306219,
          809500253,
          1189418424,
          1178635415,
          2852418873,
          520238282,
          803804280,
          924033414,
          412121177,
          1874030463,
          599091364,
          651958671,
          496802963,
          419899640,
          233794490,
          971417947,
          985429482,
          396405330,
          429034888,
          52997418
         ]
        }
       ],
       "layout": {
        "coloraxis": {
         "colorbar": {
          "title": {
           "text": "total_vaccinations"
          }
         },
         "colorscale": [
          [
           0,
           "#440154"
          ],
          [
           0.1111111111111111,
           "#482878"
          ],
          [
           0.2222222222222222,
           "#3e4989"
          ],
          [
           0.3333333333333333,
           "#31688e"
          ],
          [
           0.4444444444444444,
           "#26828e"
          ],
          [
           0.5555555555555556,
           "#1f9e89"
          ],
          [
           0.6666666666666666,
           "#35b779"
          ],
          [
           0.7777777777777778,
           "#6ece58"
          ],
          [
           0.8888888888888888,
           "#b5de2b"
          ],
          [
           1,
           "#fde725"
          ]
         ]
        },
        "geo": {
         "center": {},
         "domain": {
          "x": [
           0,
           1
          ],
          "y": [
           0,
           1
          ]
         },
         "scope": "usa"
        },
        "legend": {
         "tracegroupgap": 0
        },
        "template": {
         "data": {
          "bar": [
           {
            "error_x": {
             "color": "#2a3f5f"
            },
            "error_y": {
             "color": "#2a3f5f"
            },
            "marker": {
             "line": {
              "color": "#E5ECF6",
              "width": 0.5
             },
             "pattern": {
              "fillmode": "overlay",
              "size": 10,
              "solidity": 0.2
             }
            },
            "type": "bar"
           }
          ],
          "barpolar": [
           {
            "marker": {
             "line": {
              "color": "#E5ECF6",
              "width": 0.5
             },
             "pattern": {
              "fillmode": "overlay",
              "size": 10,
              "solidity": 0.2
             }
            },
            "type": "barpolar"
           }
          ],
          "carpet": [
           {
            "aaxis": {
             "endlinecolor": "#2a3f5f",
             "gridcolor": "white",
             "linecolor": "white",
             "minorgridcolor": "white",
             "startlinecolor": "#2a3f5f"
            },
            "baxis": {
             "endlinecolor": "#2a3f5f",
             "gridcolor": "white",
             "linecolor": "white",
             "minorgridcolor": "white",
             "startlinecolor": "#2a3f5f"
            },
            "type": "carpet"
           }
          ],
          "choropleth": [
           {
            "colorbar": {
             "outlinewidth": 0,
             "ticks": ""
            },
            "type": "choropleth"
           }
          ],
          "contour": [
           {
            "colorbar": {
             "outlinewidth": 0,
             "ticks": ""
            },
            "colorscale": [
             [
              0,
              "#0d0887"
             ],
             [
              0.1111111111111111,
              "#46039f"
             ],
             [
              0.2222222222222222,
              "#7201a8"
             ],
             [
              0.3333333333333333,
              "#9c179e"
             ],
             [
              0.4444444444444444,
              "#bd3786"
             ],
             [
              0.5555555555555556,
              "#d8576b"
             ],
             [
              0.6666666666666666,
              "#ed7953"
             ],
             [
              0.7777777777777778,
              "#fb9f3a"
             ],
             [
              0.8888888888888888,
              "#fdca26"
             ],
             [
              1,
              "#f0f921"
             ]
            ],
            "type": "contour"
           }
          ],
          "contourcarpet": [
           {
            "colorbar": {
             "outlinewidth": 0,
             "ticks": ""
            },
            "type": "contourcarpet"
           }
          ],
          "heatmap": [
           {
            "colorbar": {
             "outlinewidth": 0,
             "ticks": ""
            },
            "colorscale": [
             [
              0,
              "#0d0887"
             ],
             [
              0.1111111111111111,
              "#46039f"
             ],
             [
              0.2222222222222222,
              "#7201a8"
             ],
             [
              0.3333333333333333,
              "#9c179e"
             ],
             [
              0.4444444444444444,
              "#bd3786"
             ],
             [
              0.5555555555555556,
              "#d8576b"
             ],
             [
              0.6666666666666666,
              "#ed7953"
             ],
             [
              0.7777777777777778,
              "#fb9f3a"
             ],
             [
              0.8888888888888888,
              "#fdca26"
             ],
             [
              1,
              "#f0f921"
             ]
            ],
            "type": "heatmap"
           }
          ],
          "heatmapgl": [
           {
            "colorbar": {
             "outlinewidth": 0,
             "ticks": ""
            },
            "colorscale": [
             [
              0,
              "#0d0887"
             ],
             [
              0.1111111111111111,
              "#46039f"
             ],
             [
              0.2222222222222222,
              "#7201a8"
             ],
             [
              0.3333333333333333,
              "#9c179e"
             ],
             [
              0.4444444444444444,
              "#bd3786"
             ],
             [
              0.5555555555555556,
              "#d8576b"
             ],
             [
              0.6666666666666666,
              "#ed7953"
             ],
             [
              0.7777777777777778,
              "#fb9f3a"
             ],
             [
              0.8888888888888888,
              "#fdca26"
             ],
             [
              1,
              "#f0f921"
             ]
            ],
            "type": "heatmapgl"
           }
          ],
          "histogram": [
           {
            "marker": {
             "pattern": {
              "fillmode": "overlay",
              "size": 10,
              "solidity": 0.2
             }
            },
            "type": "histogram"
           }
          ],
          "histogram2d": [
           {
            "colorbar": {
             "outlinewidth": 0,
             "ticks": ""
            },
            "colorscale": [
             [
              0,
              "#0d0887"
             ],
             [
              0.1111111111111111,
              "#46039f"
             ],
             [
              0.2222222222222222,
              "#7201a8"
             ],
             [
              0.3333333333333333,
              "#9c179e"
             ],
             [
              0.4444444444444444,
              "#bd3786"
             ],
             [
              0.5555555555555556,
              "#d8576b"
             ],
             [
              0.6666666666666666,
              "#ed7953"
             ],
             [
              0.7777777777777778,
              "#fb9f3a"
             ],
             [
              0.8888888888888888,
              "#fdca26"
             ],
             [
              1,
              "#f0f921"
             ]
            ],
            "type": "histogram2d"
           }
          ],
          "histogram2dcontour": [
           {
            "colorbar": {
             "outlinewidth": 0,
             "ticks": ""
            },
            "colorscale": [
             [
              0,
              "#0d0887"
             ],
             [
              0.1111111111111111,
              "#46039f"
             ],
             [
              0.2222222222222222,
              "#7201a8"
             ],
             [
              0.3333333333333333,
              "#9c179e"
             ],
             [
              0.4444444444444444,
              "#bd3786"
             ],
             [
              0.5555555555555556,
              "#d8576b"
             ],
             [
              0.6666666666666666,
              "#ed7953"
             ],
             [
              0.7777777777777778,
              "#fb9f3a"
             ],
             [
              0.8888888888888888,
              "#fdca26"
             ],
             [
              1,
              "#f0f921"
             ]
            ],
            "type": "histogram2dcontour"
           }
          ],
          "mesh3d": [
           {
            "colorbar": {
             "outlinewidth": 0,
             "ticks": ""
            },
            "type": "mesh3d"
           }
          ],
          "parcoords": [
           {
            "line": {
             "colorbar": {
              "outlinewidth": 0,
              "ticks": ""
             }
            },
            "type": "parcoords"
           }
          ],
          "pie": [
           {
            "automargin": true,
            "type": "pie"
           }
          ],
          "scatter": [
           {
            "fillpattern": {
             "fillmode": "overlay",
             "size": 10,
             "solidity": 0.2
            },
            "type": "scatter"
           }
          ],
          "scatter3d": [
           {
            "line": {
             "colorbar": {
              "outlinewidth": 0,
              "ticks": ""
             }
            },
            "marker": {
             "colorbar": {
              "outlinewidth": 0,
              "ticks": ""
             }
            },
            "type": "scatter3d"
           }
          ],
          "scattercarpet": [
           {
            "marker": {
             "colorbar": {
              "outlinewidth": 0,
              "ticks": ""
             }
            },
            "type": "scattercarpet"
           }
          ],
          "scattergeo": [
           {
            "marker": {
             "colorbar": {
              "outlinewidth": 0,
              "ticks": ""
             }
            },
            "type": "scattergeo"
           }
          ],
          "scattergl": [
           {
            "marker": {
             "colorbar": {
              "outlinewidth": 0,
              "ticks": ""
             }
            },
            "type": "scattergl"
           }
          ],
          "scattermapbox": [
           {
            "marker": {
             "colorbar": {
              "outlinewidth": 0,
              "ticks": ""
             }
            },
            "type": "scattermapbox"
           }
          ],
          "scatterpolar": [
           {
            "marker": {
             "colorbar": {
              "outlinewidth": 0,
              "ticks": ""
             }
            },
            "type": "scatterpolar"
           }
          ],
          "scatterpolargl": [
           {
            "marker": {
             "colorbar": {
              "outlinewidth": 0,
              "ticks": ""
             }
            },
            "type": "scatterpolargl"
           }
          ],
          "scatterternary": [
           {
            "marker": {
             "colorbar": {
              "outlinewidth": 0,
              "ticks": ""
             }
            },
            "type": "scatterternary"
           }
          ],
          "surface": [
           {
            "colorbar": {
             "outlinewidth": 0,
             "ticks": ""
            },
            "colorscale": [
             [
              0,
              "#0d0887"
             ],
             [
              0.1111111111111111,
              "#46039f"
             ],
             [
              0.2222222222222222,
              "#7201a8"
             ],
             [
              0.3333333333333333,
              "#9c179e"
             ],
             [
              0.4444444444444444,
              "#bd3786"
             ],
             [
              0.5555555555555556,
              "#d8576b"
             ],
             [
              0.6666666666666666,
              "#ed7953"
             ],
             [
              0.7777777777777778,
              "#fb9f3a"
             ],
             [
              0.8888888888888888,
              "#fdca26"
             ],
             [
              1,
              "#f0f921"
             ]
            ],
            "type": "surface"
           }
          ],
          "table": [
           {
            "cells": {
             "fill": {
              "color": "#EBF0F8"
             },
             "line": {
              "color": "white"
             }
            },
            "header": {
             "fill": {
              "color": "#C8D4E3"
             },
             "line": {
              "color": "white"
             }
            },
            "type": "table"
           }
          ]
         },
         "layout": {
          "annotationdefaults": {
           "arrowcolor": "#2a3f5f",
           "arrowhead": 0,
           "arrowwidth": 1
          },
          "autotypenumbers": "strict",
          "coloraxis": {
           "colorbar": {
            "outlinewidth": 0,
            "ticks": ""
           }
          },
          "colorscale": {
           "diverging": [
            [
             0,
             "#8e0152"
            ],
            [
             0.1,
             "#c51b7d"
            ],
            [
             0.2,
             "#de77ae"
            ],
            [
             0.3,
             "#f1b6da"
            ],
            [
             0.4,
             "#fde0ef"
            ],
            [
             0.5,
             "#f7f7f7"
            ],
            [
             0.6,
             "#e6f5d0"
            ],
            [
             0.7,
             "#b8e186"
            ],
            [
             0.8,
             "#7fbc41"
            ],
            [
             0.9,
             "#4d9221"
            ],
            [
             1,
             "#276419"
            ]
           ],
           "sequential": [
            [
             0,
             "#0d0887"
            ],
            [
             0.1111111111111111,
             "#46039f"
            ],
            [
             0.2222222222222222,
             "#7201a8"
            ],
            [
             0.3333333333333333,
             "#9c179e"
            ],
            [
             0.4444444444444444,
             "#bd3786"
            ],
            [
             0.5555555555555556,
             "#d8576b"
            ],
            [
             0.6666666666666666,
             "#ed7953"
            ],
            [
             0.7777777777777778,
             "#fb9f3a"
            ],
            [
             0.8888888888888888,
             "#fdca26"
            ],
            [
             1,
             "#f0f921"
            ]
           ],
           "sequentialminus": [
            [
             0,
             "#0d0887"
            ],
            [
             0.1111111111111111,
             "#46039f"
            ],
            [
             0.2222222222222222,
             "#7201a8"
            ],
            [
             0.3333333333333333,
             "#9c179e"
            ],
            [
             0.4444444444444444,
             "#bd3786"
            ],
            [
             0.5555555555555556,
             "#d8576b"
            ],
            [
             0.6666666666666666,
             "#ed7953"
            ],
            [
             0.7777777777777778,
             "#fb9f3a"
            ],
            [
             0.8888888888888888,
             "#fdca26"
            ],
            [
             1,
             "#f0f921"
            ]
           ]
          },
          "colorway": [
           "#636efa",
           "#EF553B",
           "#00cc96",
           "#ab63fa",
           "#FFA15A",
           "#19d3f3",
           "#FF6692",
           "#B6E880",
           "#FF97FF",
           "#FECB52"
          ],
          "font": {
           "color": "#2a3f5f"
          },
          "geo": {
           "bgcolor": "white",
           "lakecolor": "white",
           "landcolor": "#E5ECF6",
           "showlakes": true,
           "showland": true,
           "subunitcolor": "white"
          },
          "hoverlabel": {
           "align": "left"
          },
          "hovermode": "closest",
          "mapbox": {
           "style": "light"
          },
          "paper_bgcolor": "white",
          "plot_bgcolor": "#E5ECF6",
          "polar": {
           "angularaxis": {
            "gridcolor": "white",
            "linecolor": "white",
            "ticks": ""
           },
           "bgcolor": "#E5ECF6",
           "radialaxis": {
            "gridcolor": "white",
            "linecolor": "white",
            "ticks": ""
           }
          },
          "scene": {
           "xaxis": {
            "backgroundcolor": "#E5ECF6",
            "gridcolor": "white",
            "gridwidth": 2,
            "linecolor": "white",
            "showbackground": true,
            "ticks": "",
            "zerolinecolor": "white"
           },
           "yaxis": {
            "backgroundcolor": "#E5ECF6",
            "gridcolor": "white",
            "gridwidth": 2,
            "linecolor": "white",
            "showbackground": true,
            "ticks": "",
            "zerolinecolor": "white"
           },
           "zaxis": {
            "backgroundcolor": "#E5ECF6",
            "gridcolor": "white",
            "gridwidth": 2,
            "linecolor": "white",
            "showbackground": true,
            "ticks": "",
            "zerolinecolor": "white"
           }
          },
          "shapedefaults": {
           "line": {
            "color": "#2a3f5f"
           }
          },
          "ternary": {
           "aaxis": {
            "gridcolor": "white",
            "linecolor": "white",
            "ticks": ""
           },
           "baxis": {
            "gridcolor": "white",
            "linecolor": "white",
            "ticks": ""
           },
           "bgcolor": "#E5ECF6",
           "caxis": {
            "gridcolor": "white",
            "linecolor": "white",
            "ticks": ""
           }
          },
          "title": {
           "x": 0.05
          },
          "xaxis": {
           "automargin": true,
           "gridcolor": "white",
           "linecolor": "white",
           "ticks": "",
           "title": {
            "standoff": 15
           },
           "zerolinecolor": "white",
           "zerolinewidth": 2
          },
          "yaxis": {
           "automargin": true,
           "gridcolor": "white",
           "linecolor": "white",
           "ticks": "",
           "title": {
            "standoff": 15
           },
           "zerolinecolor": "white",
           "zerolinewidth": 2
          }
         }
        },
        "title": {
         "text": "COVID-19 Total Deaths by State"
        }
       }
      }
     },
     "metadata": {},
     "output_type": "display_data"
    }
   ],
   "source": [
    "import plotly.express as px\n",
    "\n",
    "merged_data['total_vaccinations'] = merged_data['total_vaccinations'].fillna(0)\n",
    "\n",
    "state_abbreviations = {\n",
    "    'Alabama': 'AL', 'Alaska': 'AK', 'Arizona': 'AZ', 'Arkansas': 'AR',\n",
    "    'California': 'CA', 'Colorado': 'CO', 'Connecticut': 'CT', 'Delaware': 'DE',\n",
    "    'Florida': 'FL', 'Georgia': 'GA', 'Hawaii': 'HI', 'Idaho': 'ID',\n",
    "    'Illinois': 'IL', 'Indiana': 'IN', 'Iowa': 'IA', 'Kansas': 'KS',\n",
    "    'Kentucky': 'KY', 'Louisiana': 'LA', 'Maine': 'ME', 'Maryland': 'MD',\n",
    "    'Massachusetts': 'MA', 'Michigan': 'MI', 'Minnesota': 'MN', 'Mississippi': 'MS',\n",
    "    'Missouri': 'MO', 'Montana': 'MT', 'Nebraska': 'NE', 'Nevada': 'NV',\n",
    "    'New Hampshire': 'NH', 'New Jersey': 'NJ', 'New Mexico': 'NM', 'New York': 'NY',\n",
    "    'North Carolina': 'NC', 'North Dakota': 'ND', 'Ohio': 'OH', 'Oklahoma': 'OK',\n",
    "    'Oregon': 'OR', 'Pennsylvania': 'PA', 'Rhode Island': 'RI', 'South Carolina': 'SC',\n",
    "    'South Dakota': 'SD', 'Tennessee': 'TN', 'Texas': 'TX', 'Utah': 'UT',\n",
    "    'Vermont': 'VT', 'Virginia': 'VA', 'Washington': 'WA', 'West Virginia': 'WV',\n",
    "    'Wisconsin': 'WI', 'Wyoming': 'WY'\n",
    "}\n",
    "\n",
    "# Add a column for state abbreviations\n",
    "merged_data['State Code'] = merged_data['State'].map(state_abbreviations)\n",
    "\n",
    "\n",
    "fig = px.choropleth(merged_data,\n",
    "                    locations='State Code',\n",
    "                    locationmode=\"USA-states\",\n",
    "                    color='total_vaccinations',\n",
    "                    hover_name='State',\n",
    "                    scope=\"usa\",\n",
    "                    color_continuous_scale=\"Viridis\",\n",
    "                    title='COVID-19 Total Deaths by State')\n",
    "fig.show()"
   ]
  },
  {
   "cell_type": "code",
   "execution_count": 85,
   "id": "48e441d7",
   "metadata": {},
   "outputs": [
    {
     "name": "stderr",
     "output_type": "stream",
     "text": [
      "c:\\Users\\Pius\\anaconda3\\Lib\\site-packages\\seaborn\\_oldcore.py:1498: FutureWarning: is_categorical_dtype is deprecated and will be removed in a future version. Use isinstance(dtype, CategoricalDtype) instead\n",
      "  if pd.api.types.is_categorical_dtype(vector):\n",
      "c:\\Users\\Pius\\anaconda3\\Lib\\site-packages\\seaborn\\_oldcore.py:1498: FutureWarning: is_categorical_dtype is deprecated and will be removed in a future version. Use isinstance(dtype, CategoricalDtype) instead\n",
      "  if pd.api.types.is_categorical_dtype(vector):\n"
     ]
    },
    {
     "data": {
      "image/png": "[encoded data removed]",
      "text/plain": [
       "<Figure size 1000x600 with 1 Axes>"
      ]
     },
     "metadata": {},
     "output_type": "display_data"
    }
   ],
   "source": [
    "# Create the scatter plot\n",
    "plt.figure(figsize=(10, 6))\n",
    "sns.scatterplot(data=merged_data, x='total_vaccinations', y='Total Deaths', color='blue', alpha=0.6)\n",
    "\n",
    "# Adding the line of fit\n",
    "sns.regplot(data=merged_data, x='total_vaccinations', y='Total Deaths', scatter=False, color='red')\n",
    "\n",
    "# Adding titles and labels\n",
    "plt.title('Relationship between COVID-19 Deaths and Influenza Vaccination Records by State')\n",
    "plt.xlabel('Influenza Vaccination Records Count')\n",
    "plt.ylabel('COVID-19 Deaths')\n",
    "\n",
    "# Show the plot\n",
    "plt.show()"
   ]
  },
  {
   "cell_type": "markdown",
   "id": "928b7466",
   "metadata": {},
   "source": [
    "#### Relationship between vaccination status and demography (age group, race)"
   ]
  },
  {
   "cell_type": "code",
   "execution_count": 91,
   "id": "2b87d7ab",
   "metadata": {},
   "outputs": [
    {
     "data": {
      "text/html": [
       "<div>\n",
       "<style scoped>\n",
       "    .dataframe tbody tr th:only-of-type {\n",
       "        vertical-align: middle;\n",
       "    }\n",
       "\n",
       "    .dataframe tbody tr th {\n",
       "        vertical-align: top;\n",
       "    }\n",
       "\n",
       "    .dataframe thead th {\n",
       "        text-align: right;\n",
       "    }\n",
       "</style>\n",
       "<table border=\"1\" class=\"dataframe\">\n",
       "  <thead>\n",
       "    <tr style=\"text-align: right;\">\n",
       "      <th></th>\n",
       "      <th>Age_Group</th>\n",
       "      <th>Vaccination_Records_Count</th>\n",
       "    </tr>\n",
       "  </thead>\n",
       "  <tbody>\n",
       "    <tr>\n",
       "      <th>0</th>\n",
       "      <td>18-49 yrs</td>\n",
       "      <td>1590</td>\n",
       "    </tr>\n",
       "    <tr>\n",
       "      <th>1</th>\n",
       "      <td>50-64 yrs</td>\n",
       "      <td>1590</td>\n",
       "    </tr>\n",
       "    <tr>\n",
       "      <th>2</th>\n",
       "      <td>65+ yrs</td>\n",
       "      <td>1590</td>\n",
       "    </tr>\n",
       "    <tr>\n",
       "      <th>3</th>\n",
       "      <td>All Adults (18+)</td>\n",
       "      <td>1590</td>\n",
       "    </tr>\n",
       "  </tbody>\n",
       "</table>\n",
       "</div>"
      ],
      "text/plain": [
       "          Age_Group  Vaccination_Records_Count\n",
       "0         18-49 yrs                       1590\n",
       "1         50-64 yrs                       1590\n",
       "2           65+ yrs                       1590\n",
       "3  All Adults (18+)                       1590"
      ]
     },
     "execution_count": 91,
     "metadata": {},
     "output_type": "execute_result"
    }
   ],
   "source": [
    "# Aggregate by Age Group\n",
    "vaccination_by_age_group = influencavaccine_info_df.groupby('Age_Group').size().reset_index(name='Vaccination_Records_Count')\n",
    "\n",
    "vaccination_by_age_group"
   ]
  },
  {
   "cell_type": "code",
   "execution_count": 92,
   "id": "04db42a9",
   "metadata": {},
   "outputs": [
    {
     "data": {
      "image/png": "[encoded data removed]",
      "text/plain": [
       "<Figure size 1400x700 with 1 Axes>"
      ]
     },
     "metadata": {},
     "output_type": "display_data"
    }
   ],
   "source": [
    "# Plotting the data\n",
    "plt.figure(figsize = (14, 7))\n",
    "plt.bar(vaccination_by_age_group['Age_Group'], vaccination_by_age_group['Vaccination_Records_Count'], color='skyblue')\n",
    "\n",
    "plt.title('Vaccination Records Count by Age Group')\n",
    "plt.xlabel('Age Group')\n",
    "plt.ylabel('Vaccination Records Count')\n",
    "\n",
    "plt.xticks(rotation = 45)\n",
    "plt.tight_layout()\n",
    "plt.show()"
   ]
  },
  {
   "cell_type": "code",
   "execution_count": 94,
   "id": "c7f4b2f5",
   "metadata": {},
   "outputs": [
    {
     "data": {
      "text/html": [
       "<div>\n",
       "<style scoped>\n",
       "    .dataframe tbody tr th:only-of-type {\n",
       "        vertical-align: middle;\n",
       "    }\n",
       "\n",
       "    .dataframe tbody tr th {\n",
       "        vertical-align: top;\n",
       "    }\n",
       "\n",
       "    .dataframe thead th {\n",
       "        text-align: right;\n",
       "    }\n",
       "</style>\n",
       "<table border=\"1\" class=\"dataframe\">\n",
       "  <thead>\n",
       "    <tr style=\"text-align: right;\">\n",
       "      <th></th>\n",
       "      <th>Race</th>\n",
       "      <th>Vaccination_Records_Count</th>\n",
       "    </tr>\n",
       "  </thead>\n",
       "  <tbody>\n",
       "    <tr>\n",
       "      <th>0</th>\n",
       "      <td>Black, Non-Hispanic</td>\n",
       "      <td>1272</td>\n",
       "    </tr>\n",
       "    <tr>\n",
       "      <th>1</th>\n",
       "      <td>Hispanic</td>\n",
       "      <td>1272</td>\n",
       "    </tr>\n",
       "    <tr>\n",
       "      <th>2</th>\n",
       "      <td>Other/Multiple Races, Non-Hispanic</td>\n",
       "      <td>1272</td>\n",
       "    </tr>\n",
       "    <tr>\n",
       "      <th>3</th>\n",
       "      <td>Overall</td>\n",
       "      <td>1272</td>\n",
       "    </tr>\n",
       "    <tr>\n",
       "      <th>4</th>\n",
       "      <td>White, Non-Hispanic</td>\n",
       "      <td>1272</td>\n",
       "    </tr>\n",
       "  </tbody>\n",
       "</table>\n",
       "</div>"
      ],
      "text/plain": [
       "                                 Race  Vaccination_Records_Count\n",
       "0                 Black, Non-Hispanic                       1272\n",
       "1                            Hispanic                       1272\n",
       "2  Other/Multiple Races, Non-Hispanic                       1272\n",
       "3                             Overall                       1272\n",
       "4                 White, Non-Hispanic                       1272"
      ]
     },
     "execution_count": 94,
     "metadata": {},
     "output_type": "execute_result"
    }
   ],
   "source": [
    "# Aggregate by Race\n",
    "vaccination_by_race = influencavaccine_info_df.groupby('Race').size().reset_index(name='Vaccination_Records_Count')\n",
    "vaccination_by_race"
   ]
  },
  {
   "cell_type": "code",
   "execution_count": 95,
   "id": "420c728a",
   "metadata": {},
   "outputs": [
    {
     "data": {
      "image/png": "[encoded data removed]",
      "text/plain": [
       "<Figure size 1400x700 with 1 Axes>"
      ]
     },
     "metadata": {},
     "output_type": "display_data"
    }
   ],
   "source": [
    "# Plotting the data\n",
    "plt.figure(figsize = (14, 7))\n",
    "\n",
    "plt.bar(vaccination_by_race['Race'], vaccination_by_race['Vaccination_Records_Count'], color='lightgreen')\n",
    "\n",
    "plt.title('Vaccination Records Count by Race')\n",
    "plt.xlabel('Race')\n",
    "plt.ylabel('Vaccination Records Count')\n",
    "\n",
    "plt.xticks(rotation = 45)\n",
    "plt.tight_layout()\n",
    "plt.show()"
   ]
  }
 ],
 "metadata": {
  "kernelspec": {
   "display_name": "Python 3 (ipykernel)",
   "language": "python",
   "name": "python3"
  },
  "language_info": {
   "codemirror_mode": {
    "name": "ipython",
    "version": 3
   },
   "file_extension": ".py",
   "mimetype": "text/x-python",
   "name": "python",
   "nbconvert_exporter": "python",
   "pygments_lexer": "ipython3",
   "version": "3.11.5"
  }
 },
 "nbformat": 4,
 "nbformat_minor": 5
}
